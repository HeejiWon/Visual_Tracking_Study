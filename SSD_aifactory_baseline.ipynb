{
 "cells": [
  {
   "cell_type": "markdown",
   "metadata": {
    "id": "Tyr4Fq8xfcZt"
   },
   "source": [
    "### [AIFactory] 지하철역 CCTV 영상을 이용한 추적영상 인식 Baseline 코드\n",
    "### 1. Baseline 코드 링크 (AIfactory)\n",
    "http://aifactory.space/task/detail.do?taskId=T001633\n",
    "\n",
    "### 2. Task 및 Data 정의\n",
    "\n",
    "##### Task\n",
    "- 이상행동 12가지로 분류하기\n",
    "- 5종의 대상 (휠체어 이용자, 시각장애인, 유모차 이용자, 잡상인, 아동) 객체 추정\n",
    "\n",
    "##### Data\n",
    "- annotation file은 객체 레이블(0~5)과 Bounding Box (XMin YMin Width Height)로 구성되어 있으며, 존재하는 모든 객체에 대하여 정의되어 있다\n",
    "- 0 : \"Person\", 1 : \"stroller\", 2 : \"blinder\", 3 : \"wheelchair\", 4 : \"child\", 5 : \"merchant\"\n",
    "\n",
    "### 3. Code"
   ]
  },
  {
   "cell_type": "markdown",
   "metadata": {
    "id": "CS99XgxAouGr"
   },
   "source": [
    "\n",
    "```bash\n",
    "├── lib\n",
    "│   ├── augmentation.py\n",
    "│   ├── model.py\n",
    "│   ├── utils.py\n",
    "│   ├── multibox_encoder.py\n",
    "│   └── ssd_loss.py\n",
    "├── Dataset.py\n",
    "├── Config.py\n",
    "├── train.py\n",
    "└── eval.py\n",
    "```\n",
    "\n"
   ]
  },
  {
   "cell_type": "markdown",
   "metadata": {},
   "source": [
    "### 4. Model: SSD\n",
    "- Region Proposal를 제거하고 여러가지 크기의 __Default boxes__를 설정하여 성능과 속도를 높인 1-stage Detector 모델\n",
    "\n",
    "<img src='img/ssd.png' width='600'>\n",
    "\n",
    "\n",
    "<SSD(위) vs YOLO(아래)>\n",
    "\n",
    "\n",
    "> cf) 1-stage Detector vs 2-stage Detector     \n",
    ">    \n",
    ">    \n",
    "> - 2-stage Detector는 물체의 위치를 찾는 __Localization 문제__와 문체를 식별하는 __Classification 문제__를 순차적으로 행하는 방법 (대표적으로 R-CNN계열)\n",
    "<img src='img/sort_2.png' width='500'>\n",
    "<center> 2-stage Detector (출처 : hoya012 .github.io)</center>\n",
    "\n",
    "\n",
    "> - 1-stage Detector는 두 문제를 동시에 행하는 방법 (대표적으로 YOLO계열 SSD계열)\n",
    "<img src='img/sort_3.png' width='500'>\n",
    "<center> 1-stage Detector (출처 : hoya012 .github.io)</center>\n",
    "\n",
    "\n",
    "> - 1-stage Detector vs 2-stage Detector 논문 흐름  \n",
    "<img src='img/ssd_2.png' width='500'>"
   ]
  },
  {
   "cell_type": "code",
   "execution_count": 1,
   "metadata": {
    "executionInfo": {
     "elapsed": 1375,
     "status": "ok",
     "timestamp": 1621997273699,
     "user": {
      "displayName": "희지",
      "photoUrl": "",
      "userId": "04407225407236767854"
     },
     "user_tz": -540
    },
    "id": "ZtmqxF5FgU8v"
   },
   "outputs": [],
   "source": [
    "import sys\n",
    "import os\n",
    "sys.path.append('/content/drive/MyDrive/Colab_Notebooks/AIfactory/code')  # 모듈 저장 디렉토리 설정\n",
    "os.chdir('/content/drive/MyDrive/Colab_Notebooks/AIfactory/code')"
   ]
  },
  {
   "cell_type": "code",
   "execution_count": 12,
   "metadata": {
    "executionInfo": {
     "elapsed": 303,
     "status": "ok",
     "timestamp": 1621998110093,
     "user": {
      "displayName": "희지",
      "photoUrl": "",
      "userId": "04407225407236767854"
     },
     "user_tz": -540
    },
    "id": "uPalDs98xbJL"
   },
   "outputs": [],
   "source": [
    "from IPython.display import Image\n",
    "from tqdm import tqdm"
   ]
  },
  {
   "cell_type": "markdown",
   "metadata": {
    "id": "NjQhx9XRry5t"
   },
   "source": [
    "### Lib folder"
   ]
  },
  {
   "cell_type": "markdown",
   "metadata": {
    "id": "jpNtBKEMr23v"
   },
   "source": [
    "#### augmentation.py"
   ]
  },
  {
   "cell_type": "code",
   "execution_count": 3,
   "metadata": {
    "executionInfo": {
     "elapsed": 4788,
     "status": "ok",
     "timestamp": 1621997315371,
     "user": {
      "displayName": "희지",
      "photoUrl": "",
      "userId": "04407225407236767854"
     },
     "user_tz": -540
    },
    "id": "-HIGrlkDr8iU"
   },
   "outputs": [],
   "source": [
    "import cv2\n",
    "import numpy as np\n",
    "import random\n",
    "\n",
    "from lib.utils import bbox_iou"
   ]
  },
  {
   "cell_type": "code",
   "execution_count": 4,
   "metadata": {
    "executionInfo": {
     "elapsed": 8,
     "status": "ok",
     "timestamp": 1621972176523,
     "user": {
      "displayName": "희지",
      "photoUrl": "",
      "userId": "04407225407236767854"
     },
     "user_tz": -540
    },
    "id": "yMGpdQ1GsF9T"
   },
   "outputs": [],
   "source": [
    "def _crop(image, boxes, labels):\n",
    "    height, width, _ = image.shape\n",
    "\n",
    "    # box가 하나도 없으면 그냥 그대로 return \n",
    "    if len(boxes) == 0:\n",
    "        return image, boxes, labels\n",
    "\n",
    "    while True:\n",
    "        mode = random.choice((    # random.choice 함수는 원소 중 하나를 랜덤하게 choice!\n",
    "            None,                 # ex. (0.1, None)을 추출\n",
    "            (0.1, None),\n",
    "            (0.3, None),\n",
    "            (0.7, None),\n",
    "            (0.9, None),\n",
    "            (None, None),\n",
    "        ))\n",
    "\n",
    "        # mode가 None이면 그대로 return\n",
    "        if mode is None:\n",
    "            return image, boxes, labels\n",
    "\n",
    "        # min_iou와 max_iou가 None이면 각각 -inf, inf로 설정\n",
    "        min_iou, max_iou = mode\n",
    "        if min_iou is None:\n",
    "            min_iou = float('-inf')\n",
    "        if max_iou is None:\n",
    "            max_iou = float('inf')\n",
    "\n",
    "        # for문을 50번 실행하긴 하는데, 중간에 한번이라도 boxes를 추출하면 바로 return!\n",
    "        for _ in range(50):\n",
    "            w = random.randrange(int(0.3 * width), width)    # randrange(1, 7)은 1~6까지의 정수 중 임의추출\n",
    "            h = random.randrange(int(0.3 * height), height)\n",
    "\n",
    "            # 만약, w와 h가 두배이상 차이나면 다음 for문 step으로 continue해서 다시 crop\n",
    "            if h / w < 0.5 or 2 < h / w: \n",
    "                continue\n",
    "\n",
    "            # 랜덤하게 설정한 w와 h에 따라 랜덤하게 새로운 bounding box인 roi를 설정\n",
    "            l = random.randrange(width - w)\n",
    "            t = random.randrange(height - h)\n",
    "            roi = np.array((l, t, l + w, t + h))  # xmin, ymin, xmax, ymax\n",
    "\n",
    "            # 실제 box와 roi의 iou를 구했을 때, 앞서 정의한 min_iou보다 작거나 max_iou보다 크면 다음 for문으로 \n",
    "            iou = bbox_iou(boxes, roi[np.newaxis])\n",
    "            if not (min_iou <= iou.min() and iou.max() <= max_iou):\n",
    "                continue\n",
    "\n",
    "            # roi에 맞도록 image, boxes, labels\n",
    "            image = image[roi[1]:roi[3], roi[0]:roi[2]]\n",
    "\n",
    "            # xmin, ymin이 centers보다 작고, xmax, ymax가 centers보다 큰 (올바른) boxes와 labels만 추출\n",
    "            centers = (boxes[:, :2] + boxes[:, 2:]) / 2\n",
    "            mask = np.logical_and(roi[:2] < centers, centers < roi[2:]) \\\n",
    "                     .all(axis=1)\n",
    "            boxes = boxes[mask].copy()\n",
    "            labels = labels[mask]\n",
    "            \n",
    "\n",
    "            boxes[:, :2] = np.maximum(boxes[:, :2], roi[:2])\n",
    "            boxes[:, :2] -= roi[:2]\n",
    "            boxes[:, 2:] = np.minimum(boxes[:, 2:], roi[2:])\n",
    "            boxes[:, 2:] -= roi[:2]\n",
    "\n",
    "            return image, boxes, labels"
   ]
  },
  {
   "cell_type": "code",
   "execution_count": 5,
   "metadata": {
    "executionInfo": {
     "elapsed": 8,
     "status": "ok",
     "timestamp": 1621972176524,
     "user": {
      "displayName": "희지",
      "photoUrl": "",
      "userId": "04407225407236767854"
     },
     "user_tz": -540
    },
    "id": "ViOrkWLosHdz"
   },
   "outputs": [],
   "source": [
    "def _distort(image):\n",
    "    def _convert(image, alpha=1, beta=0):\n",
    "        tmp = image.astype(float) * alpha + beta\n",
    "        tmp[tmp < 0] = 0\n",
    "        tmp[tmp > 255] = 255\n",
    "        image[:] = tmp\n",
    "\n",
    "    image = image.copy()\n",
    "\n",
    "    if random.randrange(2):\n",
    "        _convert(image, beta=random.uniform(-32, 32))\n",
    "\n",
    "    if random.randrange(2):\n",
    "        _convert(image, alpha=random.uniform(0.5, 1.5))\n",
    "\n",
    "    image = cv2.cvtColor(image, cv2.COLOR_BGR2HSV)\n",
    "\n",
    "    if random.randrange(2):\n",
    "        tmp = image[:, :, 0].astype(int) + random.randint(-18, 18)\n",
    "        tmp %= 180\n",
    "        image[:, :, 0] = tmp\n",
    "\n",
    "    if random.randrange(2):\n",
    "        _convert(image[:, :, 1], alpha=random.uniform(0.5, 1.5))\n",
    "\n",
    "    image = cv2.cvtColor(image, cv2.COLOR_HSV2BGR)\n",
    "\n",
    "    return image"
   ]
  },
  {
   "cell_type": "code",
   "execution_count": 6,
   "metadata": {
    "executionInfo": {
     "elapsed": 7,
     "status": "ok",
     "timestamp": 1621972176524,
     "user": {
      "displayName": "희지",
      "photoUrl": "",
      "userId": "04407225407236767854"
     },
     "user_tz": -540
    },
    "id": "I9RM1cBrsIAz"
   },
   "outputs": [],
   "source": [
    "def _expand(image, boxes, fill):\n",
    "    if random.randrange(2):\n",
    "        return image, boxes\n",
    "\n",
    "    height, width, depth = image.shape\n",
    "    ratio = random.uniform(1, 4)\n",
    "    left = random.randint(0, int(width * ratio) - width)\n",
    "    top = random.randint(0, int(height * ratio) - height)\n",
    "\n",
    "    expand_image = np.empty(\n",
    "        (int(height * ratio), int(width * ratio), depth),\n",
    "        dtype=image.dtype)\n",
    "    expand_image[:, :] = fill\n",
    "    expand_image[top:top + height, left:left + width] = image\n",
    "    image = expand_image\n",
    "\n",
    "    boxes = boxes.copy()\n",
    "    boxes[:, :2] += (left, top)\n",
    "    boxes[:, 2:] += (left, top)\n",
    "\n",
    "    return image, boxes"
   ]
  },
  {
   "cell_type": "code",
   "execution_count": 7,
   "metadata": {
    "executionInfo": {
     "elapsed": 662,
     "status": "ok",
     "timestamp": 1621972178814,
     "user": {
      "displayName": "희지",
      "photoUrl": "",
      "userId": "04407225407236767854"
     },
     "user_tz": -540
    },
    "id": "XhVsjq76sMhl"
   },
   "outputs": [],
   "source": [
    "def _mirror(image, boxes):\n",
    "    _, width, _ = image.shape\n",
    "    if random.randrange(2):\n",
    "        image = image[:, ::-1]\n",
    "        boxes = boxes.copy()\n",
    "        boxes[:, 0::2] = width - boxes[:, 2::-2]\n",
    "    return image, boxes"
   ]
  },
  {
   "cell_type": "code",
   "execution_count": 8,
   "metadata": {
    "executionInfo": {
     "elapsed": 2,
     "status": "ok",
     "timestamp": 1621972179166,
     "user": {
      "displayName": "희지",
      "photoUrl": "",
      "userId": "04407225407236767854"
     },
     "user_tz": -540
    },
    "id": "YQoMnyd-sOKk"
   },
   "outputs": [],
   "source": [
    "# test image를 위한 preprocessing\n",
    "def preproc_for_test(image, insize, mean):\n",
    "    image = cv2.resize(image, (insize, insize))  # insize, insize 크기로 resize\n",
    "    image = image.astype(np.float32)\n",
    "    image -= mean                                # mean으로 빼줌\n",
    "    return image.transpose(2, 0, 1)              # image의 행렬을 (height, width, channels) -> (channels, height, width)로 바꿔줌\n",
    "\n",
    "\n",
    "def preproc_for_train(image, boxes, labels, insize, mean):\n",
    "    if len(boxes) == 0:\n",
    "        boxes = np.empty((0, 4))\n",
    "\n",
    "    # image preprocessing\n",
    "    image, boxes, labels = _crop(image, boxes, labels)\n",
    "    image = _distort(image)\n",
    "    image, boxes = _expand(image, boxes, mean)\n",
    "    image, boxes = _mirror(image, boxes)\n",
    "\n",
    "    height, width, _ = image.shape\n",
    "    image = preproc_for_test(image, insize, mean)\n",
    "    boxes = boxes.copy()\n",
    "    boxes[:, 0::2] /= width      # 이미지 크기를 변경했으므로 지침에 따라 변경된 이미지 해상도를 기준으로 상대좌표를 변경 (XMin / width), (YMin / height), (XMax / width), (YMax / height)\n",
    "    boxes[:, 1::2] /= height\n",
    "\n",
    "    return image, boxes, labels"
   ]
  },
  {
   "cell_type": "markdown",
   "metadata": {
    "id": "UzKel2-lDnsK"
   },
   "source": [
    "#### model.py"
   ]
  },
  {
   "cell_type": "code",
   "execution_count": null,
   "metadata": {
    "id": "z2eKBmw2DuPg"
   },
   "outputs": [],
   "source": [
    "import torch\n",
    "import torch.nn as nn\n",
    "import numpy as np\n",
    "import torchvision\n",
    "from torchvision import models\n",
    "import torch.nn.functional as F\n",
    "import torch.nn.init as init"
   ]
  },
  {
   "cell_type": "code",
   "execution_count": null,
   "metadata": {
    "id": "raNrvW1Jmp1L"
   },
   "outputs": [],
   "source": [
    "class L2Norm(nn.Module):\n",
    "\n",
    "    def __init__(self, n_channels, scale):\n",
    "        super(L2Norm, self).__init__()\n",
    "        self.n_channels = n_channels\n",
    "        self.gamma = scale or None\n",
    "        self.eps = 1e-10\n",
    "        self.weight = nn.Parameter(torch.Tensor(self.n_channels))\n",
    "        self.reset_parameters()\n",
    "\n",
    "    def reset_parameters(self):\n",
    "        init.constant_(self.weight, self.gamma)\n",
    "        \n",
    "\n",
    "    def forward(self, x):\n",
    "        norm = torch.sqrt(x.pow(2).sum(dim=1, keepdim=True)) + self.eps\n",
    "        x = torch.div(x, norm)\n",
    "        x = self.weight.unsqueeze(0).unsqueeze(2).unsqueeze(3).expand_as(x) * x\n",
    "        return x"
   ]
  },
  {
   "cell_type": "code",
   "execution_count": null,
   "metadata": {
    "colab": {
     "base_uri": "https://localhost:8080/"
    },
    "executionInfo": {
     "elapsed": 2445,
     "status": "ok",
     "timestamp": 1622000301697,
     "user": {
      "displayName": "희지",
      "photoUrl": "",
      "userId": "04407225407236767854"
     },
     "user_tz": -540
    },
    "id": "fSuUdRHxwFwh",
    "outputId": "37eeb566-2390-4e24-efe3-353a9337ef4b"
   },
   "outputs": [
    {
     "data": {
      "text/plain": [
       "Sequential(\n",
       "  (0): Conv2d(3, 64, kernel_size=(3, 3), stride=(1, 1), padding=(1, 1))\n",
       "  (1): ReLU(inplace=True)\n",
       "  (2): Conv2d(64, 64, kernel_size=(3, 3), stride=(1, 1), padding=(1, 1))\n",
       "  (3): ReLU(inplace=True)\n",
       "  (4): MaxPool2d(kernel_size=2, stride=2, padding=0, dilation=1, ceil_mode=False)\n",
       "  (5): Conv2d(64, 128, kernel_size=(3, 3), stride=(1, 1), padding=(1, 1))\n",
       "  (6): ReLU(inplace=True)\n",
       "  (7): Conv2d(128, 128, kernel_size=(3, 3), stride=(1, 1), padding=(1, 1))\n",
       "  (8): ReLU(inplace=True)\n",
       "  (9): MaxPool2d(kernel_size=2, stride=2, padding=0, dilation=1, ceil_mode=False)\n",
       "  (10): Conv2d(128, 256, kernel_size=(3, 3), stride=(1, 1), padding=(1, 1))\n",
       "  (11): ReLU(inplace=True)\n",
       "  (12): Conv2d(256, 256, kernel_size=(3, 3), stride=(1, 1), padding=(1, 1))\n",
       "  (13): ReLU(inplace=True)\n",
       "  (14): Conv2d(256, 256, kernel_size=(3, 3), stride=(1, 1), padding=(1, 1))\n",
       "  (15): ReLU(inplace=True)\n",
       "  (16): MaxPool2d(kernel_size=2, stride=2, padding=0, dilation=1, ceil_mode=False)\n",
       "  (17): Conv2d(256, 512, kernel_size=(3, 3), stride=(1, 1), padding=(1, 1))\n",
       "  (18): ReLU(inplace=True)\n",
       "  (19): Conv2d(512, 512, kernel_size=(3, 3), stride=(1, 1), padding=(1, 1))\n",
       "  (20): ReLU(inplace=True)\n",
       "  (21): Conv2d(512, 512, kernel_size=(3, 3), stride=(1, 1), padding=(1, 1))\n",
       "  (22): ReLU(inplace=True)\n",
       "  (23): MaxPool2d(kernel_size=2, stride=2, padding=0, dilation=1, ceil_mode=False)\n",
       "  (24): Conv2d(512, 512, kernel_size=(3, 3), stride=(1, 1), padding=(1, 1))\n",
       "  (25): ReLU(inplace=True)\n",
       "  (26): Conv2d(512, 512, kernel_size=(3, 3), stride=(1, 1), padding=(1, 1))\n",
       "  (27): ReLU(inplace=True)\n",
       "  (28): Conv2d(512, 512, kernel_size=(3, 3), stride=(1, 1), padding=(1, 1))\n",
       "  (29): ReLU(inplace=True)\n",
       "  (30): MaxPool2d(kernel_size=2, stride=2, padding=0, dilation=1, ceil_mode=False)\n",
       ")"
      ]
     },
     "execution_count": 11,
     "metadata": {
      "tags": []
     },
     "output_type": "execute_result"
    }
   ],
   "source": [
    "models.vgg16().features"
   ]
  },
  {
   "cell_type": "code",
   "execution_count": null,
   "metadata": {
    "id": "ie6-6SyB1qow"
   },
   "outputs": [],
   "source": [
    "def VGG():\n",
    "    base_vgg = models.vgg16().features\n",
    "    base_vgg[16].ceil_mode = True        # 16번째 layer의 ceil_mode=True로 설정하여 Output Size에 대하여 바닥 함수대신, 천장 함수를 사용! (천장함수에 대한 설명은 아래 그림 참고)\n",
    "    vgg = []\n",
    "    for i in range(30):                  # 30개의 layer 전체를 vgg라는 list로 append\n",
    "        vgg.append(base_vgg[i])        \n",
    "\n",
    "    pool5 = nn.MaxPool2d(kernel_size=3, stride=1, padding=1)    # kernel size가 3이고, padding(zero padding을 실시 할 사이즈)를 1로 설정한 MaxPooling\n",
    "    conv6 = nn.Conv2d(512, 1024, kernel_size=3, padding=6, dilation=6)   # in_channel : 512, out_channel : 1024, dilation(dilated conv에서 커널 사이 간격 사이즈 조절) : 6\n",
    "    conv7 = nn.Conv2d(1024, 1024, kernel_size=1)\n",
    "    vgg += [pool5, conv6, nn.ReLU(inplace=True), conv7, nn.ReLU(inplace=True)]  # inplace=True : 추가 메모리 할당없이 input으로 들어온 것 자체를 수정하겠다는 뜻\n",
    "    return vgg\n",
    "\n",
    "\n",
    "def Extra():\n",
    "    layers = []\n",
    "    conv8_1 = nn.Conv2d(1024, 256, kernel_size=1, stride=1)\n",
    "    conv8_2 = nn.Conv2d(256, 512, kernel_size=3, stride=2, padding=1)\n",
    "    conv9_1 = nn.Conv2d(512, 128, kernel_size=1, stride=1)\n",
    "    conv9_2 = nn.Conv2d(128, 256, kernel_size=3, stride=2, padding=1)\n",
    "    conv10_1 = nn.Conv2d(256, 128, kernel_size=1, stride=1)\n",
    "    conv10_2 = nn.Conv2d(128, 256, kernel_size=3, stride=1)\n",
    "    conv11_1 = nn.Conv2d(256, 128, kernel_size=1)\n",
    "    conv11_2 = nn.Conv2d(128, 256, kernel_size=3, stride=1)\n",
    "\n",
    "    layers = [conv8_1, conv8_2, conv9_1, conv9_2, conv10_1, conv10_2, conv11_1, conv11_2]\n",
    "\n",
    "    return layers\n",
    "\n",
    "\n",
    "def Feature_extractor(vgg, extral, bboxes, num_classes):\n",
    "\n",
    "    loc_layers = []\n",
    "    conf_layers = []\n",
    "    vgg_useful = [21, 33]\n",
    "    \n",
    "    for k, v in enumerate(vgg_useful):  \n",
    "        loc_layers += [nn.Conv2d(vgg[v].out_channels,\n",
    "                                 bboxes[k] * 4, kernel_size=3, padding=1)]\n",
    "        conf_layers += [nn.Conv2d(vgg[v].out_channels,\n",
    "                        bboxes[k] * num_classes, kernel_size=3, padding=1)]\n",
    "\n",
    "    for k, v in enumerate(extral[1::2], 2):        # enumerate의 두번째 인자(2)의 의미는 index를 2부터 시작하겠다는 의미\n",
    "        loc_layers += [nn.Conv2d(v.out_channels,\n",
    "                                 bboxes[k] * 4, kernel_size=3, padding=1)]\n",
    "        conf_layers += [nn.Conv2d(v.out_channels, \n",
    "                                  bboxes[k] * num_classes, kernel_size=3, padding=1)]\n",
    "    \n",
    "    return loc_layers, conf_layers \n",
    "\n",
    "\n",
    "\n",
    "class SSD(nn.Module):\n",
    "\n",
    "    def __init__(self, num_classes, bboxes):\n",
    "        super(SSD, self).__init__()\n",
    "\n",
    "        self.num_classes = num_classes\n",
    "        self.bboxes = bboxes \n",
    "\n",
    "        self.vgg_list = VGG()\n",
    "        self.extra_list = Extra()\n",
    "\n",
    "        self.loc_layers_list, self.conf_layers_list = Feature_extractor(self.vgg_list, self.extra_list, self.bboxes, self.num_classes)\n",
    "\n",
    "        self.L2Norm = L2Norm(512, 20)\n",
    "\n",
    "\n",
    "        self.vgg = nn.ModuleList(self.vgg_list)         # nn.ModuleList : nn.ModuleList를 반환. nn.Module 객체의 member로서 nn.ModuleList를 추가할 때,\n",
    "        self.extras = nn.ModuleList(self.extra_list)    # nn.ModuleList에 있는 nn.Module 객체의 모든 parameter들이 nn.Module 객체의 parameter로 추가됨\n",
    "        self.loc = nn.ModuleList(self.loc_layers_list)\n",
    "        self.conf = nn.ModuleList(self.conf_layers_list)\n",
    "\n",
    "\n",
    "    def forward(self, x):\n",
    "\n",
    "        source = []\n",
    "        loc = []\n",
    "        conf = []\n",
    "\n",
    "        vgg_source = [22, 34]\n",
    "\n",
    "        # vgg forward 해주기\n",
    "        for i, v in enumerate(self.vgg):\n",
    "            x = v(x)\n",
    "\n",
    "            # vgg_source(22, 34)번째 layer의 경우, layer의 output을 source에 append (21은 l2norm해주기)\n",
    "            if i in vgg_source:\n",
    "                if i == 22:\n",
    "                    s = self.L2Norm(x)\n",
    "                else:\n",
    "                    s = x\n",
    "                source.append(s)\n",
    "\n",
    "        # extra forward 해주기\n",
    "        for i, v in enumerate(self.extras):\n",
    "            x = F.relu(v(x), inplace=True)\n",
    "            if i % 2 == 1:         # 홀수번째 layer 결과를 source에 append\n",
    "                source.append(x)\n",
    "\n",
    "\n",
    "        for s, l, c in zip(source, self.loc, self.conf):\n",
    "            loc.append(l(s).permute(0, 2, 3, 1).contiguous())   # permute로 순서 바꿔주기 \n",
    "            conf.append(c(s).permute(0, 2, 3, 1).contiguous())  # contiguous : transpose나 permute를 이용하여 순서를 바꿔주면 실제 데이터의 위치가 바뀌는 것이 \n",
    "                                                                # 아니라, 접근 인덱스만 바뀌므로 이러한 비연속적인 텐서를 연속적으로 만들어주는 역할\n",
    "\n",
    "        loc = torch.cat([o.view(o.size(0), -1) for o in loc], 1)    # dim을 1로 설정하여 concatenate! (예시구현은 아래 참고)\n",
    "        conf = torch.cat([o.view(o.size(0), -1) for o in conf], 1)  # view : np.reshape와 같은 의미 (o.size(0), -1)로 reshape\n",
    "\n",
    "        loc = loc.view(loc.size(0), -1, 4)\n",
    "        conf = conf.view(conf.size(0), -1, self.num_classes)\n",
    "\n",
    "        return loc, conf\n",
    "\n",
    "\n",
    "if __name__ == '__main__':\n",
    "\n",
    "    x = torch.randn(1, 3, 300, 300) \n",
    "    ssd = SSD(21, [4,6,6,6,4,4])\n",
    "\n",
    "    y = ssd(x)\n",
    "    print(y[0].shape, y[1].shape)"
   ]
  },
  {
   "cell_type": "markdown",
   "metadata": {
    "id": "4Zhhyowxqf1p"
   },
   "source": [
    "##### cf) 바닥 함수와 천장 함수"
   ]
  },
  {
   "cell_type": "code",
   "execution_count": null,
   "metadata": {
    "colab": {
     "base_uri": "https://localhost:8080/",
     "height": 81
    },
    "executionInfo": {
     "elapsed": 778,
     "status": "ok",
     "timestamp": 1621998825376,
     "user": {
      "displayName": "희지",
      "photoUrl": "",
      "userId": "04407225407236767854"
     },
     "user_tz": -540
    },
    "id": "HZAYr1d8qTAw",
    "outputId": "659e585f-d213-4341-cfe8-e228af1f0a3a"
   },
   "outputs": [
    {
     "data": {
      "image/png": "[encoded data removed]",
      "text/plain": [
       "<IPython.core.display.Image object>"
      ]
     },
     "execution_count": 9,
     "metadata": {
      "image/png": {
       "width": 800
      },
      "tags": []
     },
     "output_type": "execute_result"
    }
   ],
   "source": [
    "Image('../img/ceil_function.png', width=800)"
   ]
  },
  {
   "cell_type": "markdown",
   "metadata": {
    "id": "kmtIM-ME7pRF"
   },
   "source": [
    "##### cf) torch.cat 구현"
   ]
  },
  {
   "cell_type": "code",
   "execution_count": null,
   "metadata": {
    "colab": {
     "base_uri": "https://localhost:8080/"
    },
    "executionInfo": {
     "elapsed": 375,
     "status": "ok",
     "timestamp": 1622003357936,
     "user": {
      "displayName": "희지",
      "photoUrl": "",
      "userId": "04407225407236767854"
     },
     "user_tz": -540
    },
    "id": "rghz_i2l7uDL",
    "outputId": "5147dd66-c4c5-47f9-ea47-18da9eb70e40"
   },
   "outputs": [
    {
     "name": "stdout",
     "output_type": "stream",
     "text": [
      "tensor([[1., 2., 5., 6.],\n",
      "        [3., 4., 7., 8.]])\n"
     ]
    }
   ],
   "source": [
    "x = torch.FloatTensor([[1, 2], [3, 4]])\n",
    "y = torch.FloatTensor([[5, 6], [7, 8]])\n",
    "\n",
    "print(torch.cat([x, y], dim=1))"
   ]
  },
  {
   "cell_type": "markdown",
   "metadata": {
    "id": "n-c7IFE8wXu7"
   },
   "source": [
    "#### utils.py\n"
   ]
  },
  {
   "cell_type": "code",
   "execution_count": null,
   "metadata": {
    "id": "96dgCJVvwfhh"
   },
   "outputs": [],
   "source": [
    "import numpy as np\n",
    "import torch\n",
    "import cv2"
   ]
  },
  {
   "cell_type": "code",
   "execution_count": null,
   "metadata": {
    "id": "teXs72zqxCnX"
   },
   "outputs": [],
   "source": [
    "# default boxes를 (x center, y center, s, s) -> (xmin, ymin, xmax, ymax)로 변경해주는 함수\n",
    "def point_form(boxes):\n",
    "\n",
    "    tl = boxes[:, :2] - boxes[:, 2:]/2\n",
    "    br = boxes[:, :2] + boxes[:, 2:]/2\n",
    "\n",
    "    return np.concatenate([tl, br], axis=1)\n",
    "\n",
    "\n",
    "def detection_collate(batch):\n",
    "\n",
    "    targets = []\n",
    "    imgs = []\n",
    "    for sample in batch:\n",
    "        imgs.append(sample[0])\n",
    "        targets.append(sample[1])\n",
    "    return torch.stack(imgs), np.array(targets)\n",
    "\n",
    "\n",
    "# IoU 계산하는 코드 (IoU에 대한 설명은 아래 그림 참고)\n",
    "def bbox_iou(box_a, box_b):\n",
    "\n",
    "    m = box_a.shape[0]\n",
    "    n = box_b.shape[0]\n",
    "\n",
    "    tl = np.maximum(box_a[:, None, :2], box_b[None, :, :2])\n",
    "    br = np.minimum(box_a[:, None, 2:], box_b[None, :, 2:])\n",
    "\n",
    "    wh = np.maximum(br-tl, 0)\n",
    "    \n",
    "    inner = wh[:, :, 0]*wh[:, :, 1]\n",
    "\n",
    "    a = box_a[:, 2:] - box_a[:, :2]\n",
    "    b = box_b[:, 2:] - box_b[:, :2]\n",
    "\n",
    "    a = a[:, 0] * a[:, 1]\n",
    "    b = b[:, 0] * b[:, 1]\n",
    "\n",
    "    a = a[:, None]\n",
    "    b = b[None, :]\n",
    "\n",
    "    return inner / (a+b-inner)"
   ]
  },
  {
   "cell_type": "markdown",
   "metadata": {
    "id": "iiMb_fPTyI-C"
   },
   "source": [
    "##### cf) IoU (Intersection over Union) 란?"
   ]
  },
  {
   "cell_type": "code",
   "execution_count": null,
   "metadata": {
    "colab": {
     "base_uri": "https://localhost:8080/",
     "height": 247
    },
    "executionInfo": {
     "elapsed": 642,
     "status": "ok",
     "timestamp": 1621967261981,
     "user": {
      "displayName": "희지",
      "photoUrl": "",
      "userId": "04407225407236767854"
     },
     "user_tz": -540
    },
    "id": "fISV2yn8xKpS",
    "outputId": "9843b048-b2d9-4c63-9f4b-585224fc26e5"
   },
   "outputs": [
    {
     "data": {
      "image/png": "[encoded data removed]",
      "text/plain": [
       "<IPython.core.display.Image object>"
      ]
     },
     "execution_count": 54,
     "metadata": {
      "image/png": {
       "width": 300
      },
      "tags": []
     },
     "output_type": "execute_result"
    }
   ],
   "source": [
    "Image(os.path.join(root, '../img/iou.png'), width=300)"
   ]
  },
  {
   "cell_type": "code",
   "execution_count": null,
   "metadata": {
    "id": "uUbaG4iPwYHp"
   },
   "outputs": [],
   "source": [
    "def nms(boxes, score, threshold=0.4):\n",
    "\n",
    "    sort_ids = np.argsort(score)\n",
    "    pick = []\n",
    "    while len(sort_ids) > 0:\n",
    "        i = sort_ids[-1]\n",
    "        pick.append(i)\n",
    "        if len(sort_ids) == 1:\n",
    "            break\n",
    "\n",
    "        sort_ids = sort_ids[:-1]\n",
    "        box = boxes[i].reshape(1, 4)\n",
    "        ious = bbox_iou(box, boxes[sort_ids]).reshape(-1)\n",
    "\n",
    "        sort_ids = np.delete(sort_ids, np.where(ious > threshold)[0])\n",
    "\n",
    "    return pick\n",
    "\n",
    "\n",
    "\n",
    "\n",
    "def detect(locations, scores, nms_threshold, gt_threshold):\n",
    "\n",
    "    scores = scores[:, 1:] \n",
    "\n",
    "    keep_boxes = []\n",
    "    keep_confs = []\n",
    "    keep_labels = []\n",
    "\n",
    "    for i in range(scores.shape[1]):\n",
    "\n",
    "        mask = scores[:, i] >= gt_threshold\n",
    "        label_scores = scores[mask, i] \n",
    "        label_boxes = locations[mask]\n",
    "\n",
    "        if len(label_scores) == 0:\n",
    "            continue\n",
    "\n",
    "        pick = nms(label_boxes, label_scores, threshold=nms_threshold)\n",
    "        label_scores = label_scores[pick]\n",
    "        label_boxes = label_boxes[pick]\n",
    "        \n",
    "\n",
    "        keep_boxes.append(label_boxes.reshape(-1))\n",
    "        keep_confs.append(label_scores)\n",
    "        keep_labels.extend([i]*len(label_scores))\n",
    "\n",
    "    if len(keep_boxes) == 0:\n",
    "        return np.array([]), np.array([]), np.array([])\n",
    "        \n",
    "    \n",
    "    keep_boxes = np.concatenate(keep_boxes, axis=0).reshape(-1, 4)\n",
    "\n",
    "    keep_confs = np.concatenate(keep_confs, axis=0)\n",
    "    keep_labels = np.array(keep_labels).reshape(-1)\n",
    "\n",
    "    return keep_boxes, keep_confs, keep_labels\n",
    "\n",
    "\n",
    "\n",
    "\n",
    "\n",
    "def draw_rectangle(src_img, labels, conf, locations, label_map):\n",
    "\n",
    "    num_obj = len(labels)\n",
    "    COLORS = [(255, 0, 0), (0, 255, 0), (0, 0, 255)]\n",
    "    FONT = cv2.FONT_HERSHEY_SIMPLEX\n",
    "    img = src_img.copy()\n",
    "    for i in range(num_obj):\n",
    "        tl = tuple(locations[i][:2])\n",
    "        br = tuple(locations[i][2:])\n",
    "        \n",
    "        cv2.rectangle(img,\n",
    "                      tl,\n",
    "                      br,\n",
    "                      COLORS[i%3], 3)\n",
    "        cv2.putText(img, label_map[labels[i]], tl,\n",
    "                    FONT, 1, (255, 255, 255), 2)\n",
    "    \n",
    "    img = img[:, :, ::-1]\n",
    "\n",
    "    return img"
   ]
  },
  {
   "cell_type": "markdown",
   "metadata": {
    "id": "jMo7w82s8_69"
   },
   "source": [
    "#### multibox_encoder.py"
   ]
  },
  {
   "cell_type": "code",
   "execution_count": null,
   "metadata": {
    "id": "oAj_HLbP9M6O"
   },
   "outputs": [],
   "source": [
    "import itertools\n",
    "import numpy as np\n",
    "\n",
    "from lib.utils import bbox_iou\n",
    "from lib.utils import point_form"
   ]
  },
  {
   "cell_type": "code",
   "execution_count": null,
   "metadata": {
    "id": "gC-Dm08R8_Te"
   },
   "outputs": [],
   "source": [
    "class MultiBoxEncoder(object):\n",
    "\n",
    "    def __init__(self, opt):\n",
    "        self.variance = opt.variance\n",
    "\n",
    "        default_boxes = list()\n",
    "        for k in range(len(opt.grids)):\n",
    "\n",
    "            for v, u in itertools.product(range(opt.grids[k]), repeat=2):   # itertools.product('ABCD', repeat=2)\n",
    "                                                                            # 결과: AA AB AC AD BA BB BC BD CA CB CC CD DA DB DC DD\n",
    "\n",
    "                # config에서 설정된 opt의 값들\n",
    "                # opt.grids = (38, 19, 10, 5, 3, 1)\n",
    "                # opt.steps = [s / 300 for s in (8, 16, 32, 64, 100, 300)]           # [0.02666666666666667, 0.05333333333333334, 0.10666666666666667, 0.21333333333333335, 0.3333333333333333, 1.0]\n",
    "                # opt.sizes = [s / 300 for s in (30, 60, 111, 162, 213, 264, 315)]   # [0.1, 0.2, 0.37, 0.54, 0.71, 0.88, 1.05]\n",
    "\n",
    "                cx = (u + 0.5) * opt.steps[k]\n",
    "                cy = (v + 0.5) * opt.steps[k]\n",
    "\n",
    "                s = opt.sizes[k]\n",
    "                default_boxes.append((cx, cy, s, s))\n",
    "\n",
    "                s = np.sqrt(opt.sizes[k] * opt.sizes[k + 1])\n",
    "                default_boxes.append((cx, cy, s, s))\n",
    "\n",
    "                s = opt.sizes[k]\n",
    "                for ar in opt.aspect_ratios[k]:\n",
    "                    default_boxes.append(\n",
    "                        (cx, cy, s * np.sqrt(ar), s / np.sqrt(ar)))\n",
    "                    default_boxes.append(\n",
    "                        (cx, cy, s / np.sqrt(ar), s * np.sqrt(ar)))\n",
    "\n",
    "        default_boxes = np.clip(default_boxes, a_min=0, a_max=1)\n",
    "        self.default_boxes = np.array(default_boxes)\n",
    "\n",
    "\n",
    "    def encode(self, boxes, labels, threshold=0.5):\n",
    "\n",
    "        if len(boxes) == 0:\n",
    "            return (\n",
    "                np.zeros(self.default_boxes.shape, dtype=np.float32),\n",
    "                np.zeros(self.default_boxes.shape[:1], dtype=np.int32))\n",
    "\n",
    "        iou = bbox_iou(point_form(self.default_boxes), boxes)\n",
    "\n",
    "        gt_idx = iou.argmax(axis=1)\n",
    "        iou = iou.max(axis=1)\n",
    "        boxes = boxes[gt_idx]\n",
    "        labels = labels[gt_idx]\n",
    "\n",
    "        # center(x), center(y), w, h로 바꿔주고, conf를 1 + labels로 정의해주기\n",
    "        loc = np.hstack((\n",
    "            ((boxes[:, :2] + boxes[:, 2:]) / 2 - self.default_boxes[:, :2]) /\n",
    "            (self.variance[0] * self.default_boxes[:, 2:]),\n",
    "            np.log((boxes[:, 2:] - boxes[:, :2]) / self.default_boxes[:, 2:]) /\n",
    "            self.variance[1]))\n",
    "\n",
    "        conf = 1 + labels\n",
    "        conf[iou < threshold] = 0\n",
    "       \n",
    "        return loc.astype(np.float32), conf.astype(np.int32)\n",
    "\n",
    "    # Inference시 output을 decode!\n",
    "    def decode(self, loc):\n",
    "\n",
    "        boxes = np.hstack((\n",
    "            self.default_boxes[:, :2] +\n",
    "            loc[:, :2] * self.variance[0] * self.default_boxes[:, 2:],\n",
    "            self.default_boxes[:, 2:] * np.exp(loc[:, 2:] * self.variance[1])))\n",
    "        \n",
    "        # xmin, ymin, xmax, ymax로 바꿔주기\n",
    "        boxes[:, :2] -= boxes[:, 2:] / 2\n",
    "        boxes[:, 2:] += boxes[:, :2]\n",
    "\n",
    "        return boxes\n",
    "\n",
    "\n",
    "if __name__ == '__main__':\n",
    "    from config import opt\n",
    "    mb = MultiBoxEncoder(opt)\n",
    "\n",
    "    print(mb.default_boxes[:10])"
   ]
  },
  {
   "cell_type": "markdown",
   "metadata": {
    "id": "lCfjcrEwVUD1"
   },
   "source": [
    "##### cf) default_boxes 확인"
   ]
  },
  {
   "cell_type": "code",
   "execution_count": null,
   "metadata": {
    "id": "YjT1h7RdD5Xv"
   },
   "outputs": [],
   "source": [
    " mb = MultiBoxEncoder(opt)"
   ]
  },
  {
   "cell_type": "code",
   "execution_count": null,
   "metadata": {
    "colab": {
     "base_uri": "https://localhost:8080/"
    },
    "executionInfo": {
     "elapsed": 363,
     "status": "ok",
     "timestamp": 1622005625887,
     "user": {
      "displayName": "희지",
      "photoUrl": "",
      "userId": "04407225407236767854"
     },
     "user_tz": -540
    },
    "id": "6m5PCz_aD7dI",
    "outputId": "489daf83-02f7-4d6e-b129-976c45213b6e"
   },
   "outputs": [
    {
     "name": "stdout",
     "output_type": "stream",
     "text": [
      "[0.01333333 0.01333333 0.1        0.1       ]\n",
      "[0.01333333 0.01333333 0.14142136 0.14142136]\n",
      "[0.01333333 0.01333333 0.14142136 0.07071068]\n",
      "[0.01333333 0.01333333 0.07071068 0.14142136]\n",
      "[0.04       0.01333333 0.1        0.1       ]\n",
      "[0.04       0.01333333 0.14142136 0.14142136]\n",
      "[0.04       0.01333333 0.14142136 0.07071068]\n",
      "[0.04       0.01333333 0.07071068 0.14142136]\n",
      "[0.06666667 0.01333333 0.1        0.1       ]\n",
      "[0.06666667 0.01333333 0.14142136 0.14142136]\n",
      "[0.06666667 0.01333333 0.14142136 0.07071068]\n",
      "[0.06666667 0.01333333 0.07071068 0.14142136]\n",
      "[0.09333333 0.01333333 0.1        0.1       ]\n",
      "[0.09333333 0.01333333 0.14142136 0.14142136]\n",
      "[0.09333333 0.01333333 0.14142136 0.07071068]\n",
      "[0.09333333 0.01333333 0.07071068 0.14142136]\n",
      "[0.12       0.01333333 0.1        0.1       ]\n",
      "[0.12       0.01333333 0.14142136 0.14142136]\n",
      "[0.12       0.01333333 0.14142136 0.07071068]\n",
      "[0.12       0.01333333 0.07071068 0.14142136]\n"
     ]
    }
   ],
   "source": [
    "for i in range(20):\n",
    "    print(mb.default_boxes[i])"
   ]
  },
  {
   "cell_type": "markdown",
   "metadata": {
    "id": "OaO25qmGIuCd"
   },
   "source": [
    "#### ssd_loss.py"
   ]
  },
  {
   "cell_type": "code",
   "execution_count": null,
   "metadata": {
    "id": "0FmZMBL-Iz6j"
   },
   "outputs": [],
   "source": [
    "import torch\n",
    "import torch.nn as nn\n",
    "import torch.nn.functional as F"
   ]
  },
  {
   "cell_type": "code",
   "execution_count": null,
   "metadata": {
    "id": "ZsDFrTaDIts3"
   },
   "outputs": [],
   "source": [
    "def hard_negtives(logits, labels, pos, neg_radio):  # 실제로는 negative인데 positive라고 잘못 예측하기 쉬운 데이터 (FP)\n",
    "\n",
    "    num_batch, num_anchors, num_classes = logits.shape\n",
    "    logits = logits.view(-1, num_classes)\n",
    "    labels = labels.view(-1)\n",
    "\n",
    "    losses = F.cross_entropy(logits, labels, reduction='none')\n",
    "    losses = losses.view(num_batch, num_anchors)\n",
    "\n",
    "    losses[pos] = 0\n",
    "\n",
    "    loss_idx = losses.argsort(1, descending=True)\n",
    "    rank = loss_idx.argsort(1) #(batch, n)\n",
    "\n",
    "    num_pos = pos.long().sum(1, keepdim=True)  # torch.long == torch.int64\n",
    "    num_neg = torch.clamp(neg_radio*num_pos, max=pos.shape[1]-1) #(batch, 1)  # clamp : input 모든 요소를 min 보다 크거나 같도록 클램프\n",
    "    neg = rank < num_neg.expand_as(rank)\n",
    "    \n",
    "    return neg\n",
    "    \n",
    "class MultiBoxLoss(nn.Module):\n",
    "\n",
    "    def __init__(self, num_classes=7, neg_radio=3):\n",
    "        super(MultiBoxLoss, self).__init__()\n",
    "        self.num_classes = num_classes\n",
    "        self.neg_radio = neg_radio\n",
    "    \n",
    "    def forward(self, pred_loc, pred_label, gt_loc, gt_label):\n",
    "        '''\n",
    "        pred_loc : (batch, anchor_num, 4)\n",
    "        pred_label : (batch, anchor_num, num_classes)\n",
    "        gt_loc : (batch, anchor_num, 4)\n",
    "        gt_label : (batch, anchor_num)\n",
    "        '''\n",
    "\n",
    "        num_batch = pred_loc.shape[0]\n",
    "\n",
    "        pos_idx = gt_label > 0\n",
    "        pos_loc_idx = pos_idx.unsqueeze(2).expand_as(pred_loc)\n",
    "        pred_loc_pos = pred_loc[pos_loc_idx].view(-1, 4)\n",
    "        gt_loc_pos = gt_loc[pos_loc_idx].view(-1, 4)\n",
    "\n",
    "        loc_loss = F.smooth_l1_loss(pred_loc_pos, gt_loc_pos, reduction='sum')\n",
    "\n",
    "        logits = pred_label.detach()\n",
    "        labels = gt_label.detach()\n",
    "        neg_idx = hard_negtives(logits, labels, pos_idx, self.neg_radio) #neg (batch, n)\n",
    "\n",
    "        pos_cls_mask = pos_idx.unsqueeze(2).expand_as(pred_label)\n",
    "        neg_cls_mask = neg_idx.unsqueeze(2).expand_as(pred_label)\n",
    "\n",
    "        conf_p = pred_label[(pos_cls_mask+neg_cls_mask).gt(0)].view(-1, self.num_classes)\n",
    "        target = gt_label[(pos_idx+neg_idx).gt(0)]\n",
    "\n",
    "        cls_loss = F.cross_entropy(conf_p, target, reduction='sum')\n",
    "        N = pos_idx.long().sum()\n",
    "\n",
    "        loc_loss /= N\n",
    "        cls_loss /= N\n",
    "\n",
    "\n",
    "        return loc_loss, cls_loss"
   ]
  },
  {
   "cell_type": "markdown",
   "metadata": {
    "id": "T3iSPde4mkKT"
   },
   "source": [
    "### Dataset.py"
   ]
  },
  {
   "cell_type": "code",
   "execution_count": 4,
   "metadata": {
    "executionInfo": {
     "elapsed": 1634,
     "status": "ok",
     "timestamp": 1621997327911,
     "user": {
      "displayName": "희지",
      "photoUrl": "",
      "userId": "04407225407236767854"
     },
     "user_tz": -540
    },
    "id": "kALpuE_WktlM"
   },
   "outputs": [],
   "source": [
    "import torch\n",
    "import torch.utils.data as data\n",
    "import xml.etree.ElementTree as ET\n",
    "import numpy as np\n",
    "import glob\n",
    "import os\n",
    "import cv2\n",
    "from config import opt\n",
    "from lib.augmentations import preproc_for_test, preproc_for_train"
   ]
  },
  {
   "cell_type": "code",
   "execution_count": 5,
   "metadata": {
    "executionInfo": {
     "elapsed": 12,
     "status": "ok",
     "timestamp": 1621997327917,
     "user": {
      "displayName": "희지",
      "photoUrl": "",
      "userId": "04407225407236767854"
     },
     "user_tz": -540
    },
    "id": "yLncufgxmh_o"
   },
   "outputs": [],
   "source": [
    "PERSON_LABELS = (\n",
    "        'Person',\n",
    "        'stroller',\n",
    "        'blinder',\n",
    "        'wheelchair',\n",
    "        'child',\n",
    "        'merchant',\n",
    "    )"
   ]
  },
  {
   "cell_type": "code",
   "execution_count": 6,
   "metadata": {
    "executionInfo": {
     "elapsed": 425,
     "status": "ok",
     "timestamp": 1621997330176,
     "user": {
      "displayName": "희지",
      "photoUrl": "",
      "userId": "04407225407236767854"
     },
     "user_tz": -540
    },
    "id": "vG8vzOUSlvYM"
   },
   "outputs": [],
   "source": [
    "class CCTVDetection(data.Dataset):\n",
    "\n",
    "\n",
    "    def __init__(self,is_train=True):\n",
    "\n",
    "        self.is_train = is_train\n",
    "        self.opt = opt\n",
    "        self.ids = []\n",
    "        root = '/content/drive/MyDrive/Colab_Notebooks/AIfactory/data'\n",
    "\n",
    "        # is_train == True인 경우, train data를 가져옴\n",
    "        if self.is_train:\n",
    "            img_file = os.path.join(root,'train_img/*')\n",
    "            ano_file = os.path.join(root,'train_label/*')\n",
    "            file_list = glob.glob(img_file)\n",
    "            file_list_img = [file for file in file_list if file.endswith(\".jpg\")]\n",
    "\n",
    "            # 모든 file_list_img의 img, annotation 경로를 ids에 append 해줌\n",
    "            for i in file_list_img:\n",
    "                file_name = os.path.split(i)[1].split('.')[0]  # jpg의 파일이름을 추출\n",
    "                img = f\"{root}/train_img/{file_name}.jpg\"\n",
    "                ano = f\"{root}/train_label/{file_name}.txt\"\n",
    "                # ano = os.path.join(\"dataset/train_label\",file_name + '.txt')\n",
    "                # img = os.path.join(\"dataset/train_img\",file_name + '.jpg')\n",
    "                \n",
    "                if os.path.isfile(ano) and os.path.isfile(img):  # 만약 ano 파일이나 img 파일이 존재하는 일반 파일이면\n",
    "                    self.ids.append((img, ano))                  # ids 리스트에 (img, ano 경로 문자열)을 append\n",
    "        \n",
    "        # is_train == False 경우, test data를 가져옴\n",
    "        else:\n",
    "            img_file = os.path.join(root,'test_img/*')\n",
    "            file_list = glob.glob(img_file)\n",
    "            file_list_img = [file for file in file_list if file.endswith(\".jpg\")]\n",
    "            for i in file_list_img:\n",
    "                self.ids.append((i))\n",
    "            \n",
    "    \n",
    "    def __getitem__(self, index):\n",
    "\n",
    "        # train data에 대하여 preproecessing 해준다음, boxes와 label를 target 리스트로 만들어 return\n",
    "        if self.is_train:\n",
    "            img_path, ano_path = self.ids[index]\n",
    "            image = cv2.imread(img_path, cv2.IMREAD_COLOR)\n",
    "            boxes, labels = self.get_annotations(ano_path)\n",
    "\n",
    "            if self.is_train:\n",
    "                image, boxes, labels = preproc_for_train(image, boxes, labels, opt.min_size, opt.mean)\n",
    "                image = torch.from_numpy(image)\n",
    "\n",
    "            target = np.concatenate([boxes, labels.reshape(-1,1)], axis=1)\n",
    "            return image, target\n",
    "\n",
    "        # test data에 대하여 image만 리턴\n",
    "        else:\n",
    "            img_path = self.ids[index]\n",
    "            image = cv2.imread(img_path, cv2.IMREAD_COLOR)\n",
    "            return image\n",
    "    \n",
    "    # Bounding Box와 Label를 return 해주는 함수\n",
    "    def get_annotations(self, path):\n",
    "        \n",
    "        f = open(path, 'r')\n",
    "        det = f.readlines()\n",
    "        boxes = []\n",
    "        labels = []\n",
    "        for d in det:\n",
    "            obj = d.split(' ')\n",
    "            label = int(obj[0])\n",
    "            box = [float(obj[1]),float(obj[2]),float(obj[1])+float(obj[3]),float(obj[2])+float(obj[4])]\n",
    "            boxes.append(box)\n",
    "            labels.append(label)\n",
    "        return np.array(boxes), np.array(labels)\n",
    "            \n",
    "\n",
    "    def __len__(self):\n",
    "        return len(self.ids)"
   ]
  },
  {
   "cell_type": "markdown",
   "metadata": {
    "id": "vitoXArLBYn2"
   },
   "source": [
    "### Config.py"
   ]
  },
  {
   "cell_type": "code",
   "execution_count": 7,
   "metadata": {
    "executionInfo": {
     "elapsed": 346,
     "status": "ok",
     "timestamp": 1621997335255,
     "user": {
      "displayName": "희지",
      "photoUrl": "",
      "userId": "04407225407236767854"
     },
     "user_tz": -540
    },
    "id": "ZCZeM6_NBX08"
   },
   "outputs": [],
   "source": [
    "class Config:\n",
    "    VOC_ROOT = '/workspace/hakerton/simple-ssd-for-beginners/VOCdevkit'\n",
    "    num_classes = 7\n",
    "    resume = None\n",
    "    lr = 0.0005\n",
    "    batch_size = 64 \n",
    "    momentum = 0.9\n",
    "    weight_decay = 5e-4\n",
    "    epoch = 100 \n",
    "    gamma = 0.2\n",
    "    lr_reduce_epoch = 30\n",
    "    save_folder = 'weights/'\n",
    "    basenet = 'vgg16_reducedfc.pth'\n",
    "    log_fn = 1\n",
    "    neg_radio = 3\n",
    "    min_size = 300\n",
    "    grids = (38, 19, 10, 5, 3, 1)\n",
    "    aspect_ratios = ((2,), (2, 3), (2, 3), (2, 3), (2,), (2,))\n",
    "    steps = [s / 300 for s in (8, 16, 32, 64, 100, 300)]\n",
    "    sizes = [s / 300 for s in (30, 60, 111, 162, 213, 264, 315)] \n",
    "    anchor_num = [4, 6, 6, 6, 4, 4]\n",
    "    mean = (104, 117, 123)\n",
    "    variance = (0.1, 0.2)\n",
    "\n",
    "opt = Config()"
   ]
  },
  {
   "cell_type": "markdown",
   "metadata": {
    "id": "6_uZV5Qn9nSb"
   },
   "source": [
    "### train.py"
   ]
  },
  {
   "cell_type": "code",
   "execution_count": 8,
   "metadata": {
    "executionInfo": {
     "elapsed": 1488,
     "status": "ok",
     "timestamp": 1621997338197,
     "user": {
      "displayName": "희지",
      "photoUrl": "",
      "userId": "04407225407236767854"
     },
     "user_tz": -540
    },
    "id": "NB4jsnYdfy1j"
   },
   "outputs": [],
   "source": [
    "from config import opt\n",
    "import numpy as np\n",
    "from lib.model import SSD\n",
    "import torch\n",
    "import torch.nn.functional as F\n",
    "import os\n",
    "from lib.utils import detection_collate\n",
    "from lib.multibox_encoder import MultiBoxEncoder\n",
    "from lib.ssd_loss import MultiBoxLoss\n",
    "# from dataset import CCTVDetection      # dataset.py는 import 오류가 발생하여 직접 실행"
   ]
  },
  {
   "cell_type": "code",
   "execution_count": null,
   "metadata": {
    "colab": {
     "base_uri": "https://localhost:8080/"
    },
    "id": "ed-Q7EPP3GR7",
    "outputId": "0d2a7ca0-d25d-4b72-ba2d-e51500e4110a"
   },
   "outputs": [
    {
     "name": "stdout",
     "output_type": "stream",
     "text": [
      "    VOC_ROOT = '/workspace/hakerton/simple-ssd-for-beginners/VOCdevkit'\n",
      "\n",
      "    num_classes = 7\n",
      "\n",
      "    resume = None\n",
      "\n",
      "    lr = 0.0005\n",
      "\n",
      "    batch_size = 64 \n",
      "\n",
      "    momentum = 0.9\n",
      "\n",
      "    weight_decay = 5e-4\n",
      "\n",
      "    epoch = 100 \n",
      "\n",
      "    gamma = 0.2\n",
      "\n",
      "    lr_reduce_epoch = 30\n",
      "\n",
      "    save_folder = 'weights/'\n",
      "\n",
      "    basenet = 'vgg16_reducedfc.pth'\n",
      "\n",
      "    log_fn = 1\n",
      "\n",
      "    neg_radio = 3\n",
      "\n",
      "    min_size = 300\n",
      "\n",
      "    grids = (38, 19, 10, 5, 3, 1)\n",
      "\n",
      "    aspect_ratios = ((2,), (2, 3), (2, 3), (2, 3), (2,), (2,))\n",
      "\n",
      "    steps = [s / 300 for s in (8, 16, 32, 64, 100, 300)]\n",
      "\n",
      "    sizes = [s / 300 for s in (30, 60, 111, 162, 213, 264, 315)] \n",
      "\n",
      "    anchor_num = [4, 6, 6, 6, 4, 4]\n",
      "\n",
      "    mean = (104, 117, 123)\n",
      "\n",
      "    variance = (0.1, 0.2)\n",
      "\n",
      "opt = Config()\n",
      "\n",
      "now runing on device :  cuda\n",
      "Loading base network...\n",
      "start training........\n",
      "change learning rate, now learning rate is : 0.0005\n"
     ]
    },
    {
     "name": "stderr",
     "output_type": "stream",
     "text": [
      "/content/drive/My Drive/Colab_Notebooks/AIfactory/code/lib/utils.py:25: VisibleDeprecationWarning: Creating an ndarray from ragged nested sequences (which is a list-or-tuple of lists-or-tuples-or ndarrays with different lengths or shapes) is deprecated. If you meant to do this, you must specify 'dtype=object' when creating the ndarray\n",
      "  return torch.stack(imgs), np.array(targets)\n"
     ]
    },
    {
     "name": "stdout",
     "output_type": "stream",
     "text": [
      "epoch[0] | batch_idx[0] | loc_loss [2.81] | cls_loss [12.18] | avg_loss [14.99]\n",
      "epoch[0] | batch_idx[1] | loc_loss [2.99] | cls_loss [11.75] | avg_loss [14.74]\n",
      "epoch[0] | batch_idx[2] | loc_loss [3.04] | cls_loss [11.25] | avg_loss [14.29]\n",
      "epoch[0] | batch_idx[3] | loc_loss [2.93] | cls_loss [10.77] | avg_loss [13.69]\n",
      "epoch[0] | batch_idx[4] | loc_loss [2.89] | cls_loss [10.46] | avg_loss [13.35]\n",
      "epoch[0] | batch_idx[5] | loc_loss [2.85] | cls_loss [10.11] | avg_loss [12.96]\n",
      "epoch[0] | batch_idx[6] | loc_loss [2.81] | cls_loss [9.86] | avg_loss [12.67]\n",
      "epoch[0] | batch_idx[7] | loc_loss [2.77] | cls_loss [9.71] | avg_loss [12.48]\n",
      "epoch[0] | batch_idx[8] | loc_loss [2.74] | cls_loss [9.61] | avg_loss [12.34]\n",
      "epoch[0] | batch_idx[9] | loc_loss [2.72] | cls_loss [9.54] | avg_loss [12.26]\n",
      "epoch[0] | batch_idx[10] | loc_loss [2.70] | cls_loss [9.45] | avg_loss [12.16]\n",
      "epoch[0] | batch_idx[11] | loc_loss [2.68] | cls_loss [9.35] | avg_loss [12.03]\n",
      "epoch[0] | batch_idx[12] | loc_loss [2.67] | cls_loss [9.22] | avg_loss [11.89]\n",
      "epoch[0] | batch_idx[13] | loc_loss [2.67] | cls_loss [9.11] | avg_loss [11.79]\n",
      "epoch[0] | batch_idx[14] | loc_loss [2.66] | cls_loss [9.04] | avg_loss [11.70]\n",
      "epoch[0] | batch_idx[15] | loc_loss [2.65] | cls_loss [8.99] | avg_loss [11.64]\n",
      "epoch[0] | batch_idx[16] | loc_loss [2.63] | cls_loss [8.90] | avg_loss [11.54]\n",
      "epoch[0] | batch_idx[17] | loc_loss [2.64] | cls_loss [8.83] | avg_loss [11.47]\n",
      "epoch[0] | batch_idx[18] | loc_loss [2.63] | cls_loss [8.76] | avg_loss [11.39]\n",
      "epoch[0] | batch_idx[19] | loc_loss [2.61] | cls_loss [8.71] | avg_loss [11.32]\n",
      "epoch[0] | batch_idx[20] | loc_loss [2.61] | cls_loss [8.67] | avg_loss [11.28]\n",
      "epoch[0] | batch_idx[21] | loc_loss [2.60] | cls_loss [8.62] | avg_loss [11.22]\n",
      "epoch[0] | batch_idx[22] | loc_loss [2.58] | cls_loss [8.58] | avg_loss [11.16]\n",
      "epoch[0] | batch_idx[23] | loc_loss [2.57] | cls_loss [8.55] | avg_loss [11.12]\n",
      "epoch[0] | batch_idx[24] | loc_loss [2.57] | cls_loss [8.52] | avg_loss [11.09]\n",
      "epoch[0] | batch_idx[25] | loc_loss [2.57] | cls_loss [8.48] | avg_loss [11.05]\n",
      "epoch[0] | batch_idx[26] | loc_loss [2.57] | cls_loss [8.45] | avg_loss [11.01]\n",
      "epoch[0] | batch_idx[27] | loc_loss [2.57] | cls_loss [8.41] | avg_loss [10.98]\n",
      "epoch[0] | batch_idx[28] | loc_loss [2.56] | cls_loss [8.38] | avg_loss [10.94]\n",
      "epoch[0] | batch_idx[29] | loc_loss [2.54] | cls_loss [8.35] | avg_loss [10.89]\n",
      "epoch[0] | batch_idx[30] | loc_loss [2.54] | cls_loss [8.32] | avg_loss [10.86]\n",
      "epoch[0] | batch_idx[31] | loc_loss [2.53] | cls_loss [8.31] | avg_loss [10.84]\n",
      "epoch[0] | batch_idx[32] | loc_loss [2.53] | cls_loss [8.30] | avg_loss [10.83]\n",
      "epoch[0] | batch_idx[33] | loc_loss [2.53] | cls_loss [8.28] | avg_loss [10.80]\n",
      "epoch[0] | batch_idx[34] | loc_loss [2.52] | cls_loss [8.26] | avg_loss [10.77]\n",
      "epoch[0] | batch_idx[35] | loc_loss [2.51] | cls_loss [8.23] | avg_loss [10.74]\n",
      "epoch[0] | batch_idx[36] | loc_loss [2.51] | cls_loss [8.21] | avg_loss [10.72]\n",
      "epoch[0] | batch_idx[37] | loc_loss [2.51] | cls_loss [8.19] | avg_loss [10.70]\n",
      "epoch[0] | batch_idx[38] | loc_loss [2.50] | cls_loss [8.17] | avg_loss [10.67]\n",
      "epoch[0] | batch_idx[39] | loc_loss [2.50] | cls_loss [8.14] | avg_loss [10.64]\n",
      "epoch[0] | batch_idx[40] | loc_loss [2.49] | cls_loss [8.11] | avg_loss [10.60]\n",
      "epoch[0] | batch_idx[41] | loc_loss [2.49] | cls_loss [8.09] | avg_loss [10.58]\n",
      "epoch[0] | batch_idx[42] | loc_loss [2.48] | cls_loss [8.07] | avg_loss [10.55]\n",
      "epoch[0] | batch_idx[43] | loc_loss [2.47] | cls_loss [8.04] | avg_loss [10.51]\n",
      "epoch[0] | batch_idx[44] | loc_loss [2.47] | cls_loss [8.02] | avg_loss [10.49]\n",
      "epoch[0] | batch_idx[45] | loc_loss [2.47] | cls_loss [8.01] | avg_loss [10.48]\n",
      "epoch[0] | batch_idx[46] | loc_loss [2.46] | cls_loss [7.99] | avg_loss [10.45]\n",
      "epoch[0] | batch_idx[47] | loc_loss [2.45] | cls_loss [7.98] | avg_loss [10.43]\n",
      "epoch[0] | batch_idx[48] | loc_loss [2.44] | cls_loss [7.97] | avg_loss [10.41]\n",
      "epoch[0] | batch_idx[49] | loc_loss [2.44] | cls_loss [7.95] | avg_loss [10.39]\n",
      "epoch[0] | batch_idx[50] | loc_loss [2.43] | cls_loss [7.94] | avg_loss [10.37]\n",
      "epoch[0] | batch_idx[51] | loc_loss [2.43] | cls_loss [7.92] | avg_loss [10.35]\n",
      "epoch[0] | batch_idx[52] | loc_loss [2.43] | cls_loss [7.91] | avg_loss [10.34]\n",
      "epoch[0] | batch_idx[53] | loc_loss [2.42] | cls_loss [7.89] | avg_loss [10.31]\n",
      "epoch[0] | batch_idx[54] | loc_loss [2.41] | cls_loss [7.87] | avg_loss [10.28]\n",
      "epoch[0] | batch_idx[55] | loc_loss [2.41] | cls_loss [7.86] | avg_loss [10.27]\n",
      "epoch[0] | batch_idx[56] | loc_loss [2.40] | cls_loss [7.84] | avg_loss [10.25]\n",
      "epoch[0] | batch_idx[57] | loc_loss [2.40] | cls_loss [7.83] | avg_loss [10.23]\n",
      "epoch[0] | batch_idx[58] | loc_loss [2.40] | cls_loss [7.81] | avg_loss [10.22]\n",
      "epoch[0] | batch_idx[59] | loc_loss [2.40] | cls_loss [7.80] | avg_loss [10.20]\n",
      "epoch[0] | batch_idx[60] | loc_loss [2.39] | cls_loss [7.79] | avg_loss [10.18]\n",
      "epoch[0] | batch_idx[61] | loc_loss [2.39] | cls_loss [7.78] | avg_loss [10.17]\n",
      "epoch[0] | batch_idx[62] | loc_loss [2.39] | cls_loss [7.77] | avg_loss [10.16]\n",
      "epoch[0] | batch_idx[63] | loc_loss [2.39] | cls_loss [7.75] | avg_loss [10.14]\n",
      "epoch[0] | batch_idx[64] | loc_loss [2.39] | cls_loss [7.74] | avg_loss [10.13]\n",
      "epoch[0] | batch_idx[65] | loc_loss [2.38] | cls_loss [7.73] | avg_loss [10.11]\n",
      "epoch[0] | batch_idx[66] | loc_loss [2.37] | cls_loss [7.71] | avg_loss [10.08]\n",
      "epoch[0] | batch_idx[67] | loc_loss [2.36] | cls_loss [7.70] | avg_loss [10.06]\n",
      "epoch[0] | batch_idx[68] | loc_loss [2.36] | cls_loss [7.68] | avg_loss [10.05]\n",
      "epoch[0] | batch_idx[69] | loc_loss [2.36] | cls_loss [7.67] | avg_loss [10.03]\n",
      "epoch[0] | batch_idx[70] | loc_loss [2.36] | cls_loss [7.66] | avg_loss [10.02]\n",
      "epoch[0] | batch_idx[71] | loc_loss [2.35] | cls_loss [7.65] | avg_loss [10.00]\n",
      "epoch[0] | batch_idx[72] | loc_loss [2.34] | cls_loss [7.64] | avg_loss [9.98]\n",
      "epoch[0] | batch_idx[73] | loc_loss [2.34] | cls_loss [7.63] | avg_loss [9.97]\n",
      "epoch[0] | batch_idx[74] | loc_loss [2.34] | cls_loss [7.62] | avg_loss [9.96]\n",
      "epoch[0] | batch_idx[75] | loc_loss [2.34] | cls_loss [7.61] | avg_loss [9.95]\n",
      "epoch[0] | batch_idx[76] | loc_loss [2.33] | cls_loss [7.60] | avg_loss [9.93]\n",
      "epoch[0] | batch_idx[77] | loc_loss [2.32] | cls_loss [7.59] | avg_loss [9.91]\n",
      "epoch[0] | batch_idx[78] | loc_loss [2.32] | cls_loss [7.58] | avg_loss [9.90]\n",
      "epoch[0] | batch_idx[79] | loc_loss [2.32] | cls_loss [7.57] | avg_loss [9.88]\n",
      "epoch[0] | batch_idx[80] | loc_loss [2.31] | cls_loss [7.56] | avg_loss [9.87]\n",
      "epoch[0] | batch_idx[81] | loc_loss [2.30] | cls_loss [7.54] | avg_loss [9.85]\n",
      "epoch[0] | batch_idx[82] | loc_loss [2.30] | cls_loss [7.53] | avg_loss [9.84]\n",
      "epoch[0] | batch_idx[83] | loc_loss [2.30] | cls_loss [7.52] | avg_loss [9.82]\n",
      "epoch[0] | batch_idx[84] | loc_loss [2.30] | cls_loss [7.52] | avg_loss [9.81]\n",
      "epoch[0] | batch_idx[85] | loc_loss [2.29] | cls_loss [7.51] | avg_loss [9.80]\n",
      "epoch[0] | batch_idx[86] | loc_loss [2.29] | cls_loss [7.50] | avg_loss [9.79]\n",
      "epoch[0] | batch_idx[87] | loc_loss [2.29] | cls_loss [7.49] | avg_loss [9.77]\n",
      "epoch[0] | batch_idx[88] | loc_loss [2.28] | cls_loss [7.48] | avg_loss [9.76]\n",
      "epoch[0] | batch_idx[89] | loc_loss [2.28] | cls_loss [7.47] | avg_loss [9.75]\n",
      "epoch[0] | batch_idx[90] | loc_loss [2.28] | cls_loss [7.46] | avg_loss [9.74]\n",
      "epoch[0] | batch_idx[91] | loc_loss [2.28] | cls_loss [7.45] | avg_loss [9.73]\n",
      "epoch[0] | batch_idx[92] | loc_loss [2.27] | cls_loss [7.44] | avg_loss [9.72]\n",
      "epoch[0] | batch_idx[93] | loc_loss [2.27] | cls_loss [7.43] | avg_loss [9.70]\n",
      "epoch[0] | batch_idx[94] | loc_loss [2.26] | cls_loss [7.43] | avg_loss [9.69]\n",
      "epoch[0] | batch_idx[95] | loc_loss [2.26] | cls_loss [7.42] | avg_loss [9.68]\n",
      "epoch[0] | batch_idx[96] | loc_loss [2.26] | cls_loss [7.41] | avg_loss [9.67]\n",
      "epoch[0] | batch_idx[97] | loc_loss [2.25] | cls_loss [7.41] | avg_loss [9.66]\n",
      "epoch[0] | batch_idx[98] | loc_loss [2.25] | cls_loss [7.40] | avg_loss [9.65]\n",
      "epoch[0] | batch_idx[99] | loc_loss [2.25] | cls_loss [7.39] | avg_loss [9.64]\n",
      "epoch[0] | batch_idx[100] | loc_loss [2.24] | cls_loss [7.38] | avg_loss [9.62]\n",
      "epoch[0] | batch_idx[101] | loc_loss [2.23] | cls_loss [7.37] | avg_loss [9.61]\n",
      "epoch[0] | batch_idx[102] | loc_loss [2.23] | cls_loss [7.36] | avg_loss [9.59]\n",
      "epoch[0] | batch_idx[103] | loc_loss [2.22] | cls_loss [7.36] | avg_loss [9.58]\n",
      "epoch[0] | batch_idx[104] | loc_loss [2.22] | cls_loss [7.35] | avg_loss [9.57]\n",
      "epoch[0] | batch_idx[105] | loc_loss [2.22] | cls_loss [7.34] | avg_loss [9.56]\n",
      "epoch[0] | batch_idx[106] | loc_loss [2.21] | cls_loss [7.33] | avg_loss [9.55]\n",
      "epoch[0] | batch_idx[107] | loc_loss [2.21] | cls_loss [7.33] | avg_loss [9.54]\n",
      "epoch[0] | batch_idx[108] | loc_loss [2.21] | cls_loss [7.32] | avg_loss [9.52]\n",
      "epoch[0] | batch_idx[109] | loc_loss [2.20] | cls_loss [7.31] | avg_loss [9.52]\n",
      "epoch[0] | batch_idx[110] | loc_loss [2.20] | cls_loss [7.31] | avg_loss [9.51]\n",
      "epoch[0] | batch_idx[111] | loc_loss [2.20] | cls_loss [7.31] | avg_loss [9.51]\n",
      "epoch[0] | batch_idx[112] | loc_loss [2.20] | cls_loss [7.30] | avg_loss [9.50]\n",
      "epoch[0] | batch_idx[113] | loc_loss [2.19] | cls_loss [7.29] | avg_loss [9.48]\n",
      "epoch[0] | batch_idx[114] | loc_loss [2.19] | cls_loss [7.29] | avg_loss [9.47]\n",
      "epoch[0] | batch_idx[115] | loc_loss [2.19] | cls_loss [7.28] | avg_loss [9.46]\n",
      "epoch[0] | batch_idx[116] | loc_loss [2.18] | cls_loss [7.27] | avg_loss [9.45]\n",
      "epoch[0] | batch_idx[117] | loc_loss [2.18] | cls_loss [7.27] | avg_loss [9.45]\n",
      "epoch[0] | batch_idx[118] | loc_loss [2.18] | cls_loss [7.26] | avg_loss [9.44]\n",
      "epoch[0] | batch_idx[119] | loc_loss [2.17] | cls_loss [7.25] | avg_loss [9.42]\n",
      "epoch[0] | batch_idx[120] | loc_loss [2.16] | cls_loss [7.24] | avg_loss [9.41]\n",
      "epoch[0] | batch_idx[121] | loc_loss [2.16] | cls_loss [7.24] | avg_loss [9.40]\n",
      "epoch[0] | batch_idx[122] | loc_loss [2.16] | cls_loss [7.23] | avg_loss [9.39]\n",
      "epoch[0] | batch_idx[123] | loc_loss [2.15] | cls_loss [7.22] | avg_loss [9.38]\n",
      "epoch[0] | batch_idx[124] | loc_loss [2.15] | cls_loss [7.21] | avg_loss [9.37]\n",
      "epoch[0] | batch_idx[125] | loc_loss [2.15] | cls_loss [7.21] | avg_loss [9.36]\n",
      "epoch[0] | batch_idx[126] | loc_loss [2.15] | cls_loss [7.20] | avg_loss [9.36]\n",
      "epoch[0] | batch_idx[127] | loc_loss [2.15] | cls_loss [7.20] | avg_loss [9.35]\n",
      "epoch[0] | batch_idx[128] | loc_loss [2.15] | cls_loss [7.19] | avg_loss [9.35]\n",
      "epoch[0] | batch_idx[129] | loc_loss [2.15] | cls_loss [7.19] | avg_loss [9.34]\n",
      "epoch[0] | batch_idx[130] | loc_loss [2.15] | cls_loss [7.18] | avg_loss [9.33]\n",
      "epoch[0] | batch_idx[131] | loc_loss [2.15] | cls_loss [7.18] | avg_loss [9.33]\n",
      "epoch[0] | batch_idx[132] | loc_loss [2.14] | cls_loss [7.18] | avg_loss [9.32]\n",
      "epoch[0] | batch_idx[133] | loc_loss [2.14] | cls_loss [7.18] | avg_loss [9.32]\n",
      "epoch[0] | batch_idx[134] | loc_loss [2.14] | cls_loss [7.17] | avg_loss [9.31]\n",
      "epoch[0] | batch_idx[135] | loc_loss [2.14] | cls_loss [7.17] | avg_loss [9.31]\n",
      "epoch[0] | batch_idx[136] | loc_loss [2.13] | cls_loss [7.16] | avg_loss [9.30]\n",
      "epoch[0] | batch_idx[137] | loc_loss [2.13] | cls_loss [7.16] | avg_loss [9.29]\n",
      "epoch[0] | batch_idx[138] | loc_loss [2.13] | cls_loss [7.16] | avg_loss [9.29]\n",
      "epoch[0] | batch_idx[139] | loc_loss [2.13] | cls_loss [7.15] | avg_loss [9.28]\n",
      "epoch[0] | batch_idx[140] | loc_loss [2.13] | cls_loss [7.15] | avg_loss [9.27]\n",
      "epoch[0] | batch_idx[141] | loc_loss [2.13] | cls_loss [7.14] | avg_loss [9.27]\n",
      "epoch[0] | batch_idx[142] | loc_loss [2.12] | cls_loss [7.14] | avg_loss [9.26]\n",
      "epoch[0] | batch_idx[143] | loc_loss [2.12] | cls_loss [7.13] | avg_loss [9.26]\n",
      "epoch[0] | batch_idx[144] | loc_loss [2.12] | cls_loss [7.13] | avg_loss [9.25]\n",
      "epoch[0] | batch_idx[145] | loc_loss [2.12] | cls_loss [7.12] | avg_loss [9.24]\n",
      "epoch[0] | batch_idx[146] | loc_loss [2.12] | cls_loss [7.12] | avg_loss [9.23]\n",
      "epoch[0] | batch_idx[147] | loc_loss [2.11] | cls_loss [7.11] | avg_loss [9.22]\n",
      "epoch[0] | batch_idx[148] | loc_loss [2.11] | cls_loss [7.11] | avg_loss [9.22]\n",
      "epoch[0] | batch_idx[149] | loc_loss [2.11] | cls_loss [7.10] | avg_loss [9.21]\n",
      "epoch[0] | batch_idx[150] | loc_loss [2.11] | cls_loss [7.09] | avg_loss [9.20]\n",
      "epoch[0] | batch_idx[151] | loc_loss [2.11] | cls_loss [7.09] | avg_loss [9.20]\n",
      "epoch[0] | batch_idx[152] | loc_loss [2.11] | cls_loss [7.09] | avg_loss [9.19]\n",
      "epoch[0] | batch_idx[153] | loc_loss [2.10] | cls_loss [7.08] | avg_loss [9.18]\n",
      "epoch[0] | batch_idx[154] | loc_loss [2.10] | cls_loss [7.08] | avg_loss [9.18]\n",
      "epoch[0] | batch_idx[155] | loc_loss [2.10] | cls_loss [7.07] | avg_loss [9.17]\n",
      "epoch[0] | batch_idx[156] | loc_loss [2.10] | cls_loss [7.07] | avg_loss [9.16]\n",
      "epoch[0] | batch_idx[157] | loc_loss [2.10] | cls_loss [7.06] | avg_loss [9.16]\n",
      "epoch[0] | batch_idx[158] | loc_loss [2.09] | cls_loss [7.06] | avg_loss [9.15]\n",
      "epoch[0] | batch_idx[159] | loc_loss [2.09] | cls_loss [7.05] | avg_loss [9.14]\n",
      "epoch[0] | batch_idx[160] | loc_loss [2.09] | cls_loss [7.04] | avg_loss [9.14]\n",
      "epoch[0] | batch_idx[161] | loc_loss [2.09] | cls_loss [7.04] | avg_loss [9.13]\n",
      "epoch[0] | batch_idx[162] | loc_loss [2.09] | cls_loss [7.03] | avg_loss [9.12]\n",
      "epoch[0] | batch_idx[163] | loc_loss [2.08] | cls_loss [7.03] | avg_loss [9.11]\n",
      "epoch[0] | batch_idx[164] | loc_loss [2.08] | cls_loss [7.02] | avg_loss [9.10]\n",
      "epoch[0] | batch_idx[165] | loc_loss [2.08] | cls_loss [7.02] | avg_loss [9.09]\n",
      "epoch[0] | batch_idx[166] | loc_loss [2.07] | cls_loss [7.01] | avg_loss [9.08]\n",
      "epoch[0] | batch_idx[167] | loc_loss [2.07] | cls_loss [7.01] | avg_loss [9.08]\n",
      "epoch[0] | batch_idx[168] | loc_loss [2.07] | cls_loss [7.00] | avg_loss [9.07]\n",
      "epoch[0] | batch_idx[169] | loc_loss [2.06] | cls_loss [6.99] | avg_loss [9.06]\n",
      "epoch[0] | batch_idx[170] | loc_loss [2.06] | cls_loss [6.99] | avg_loss [9.05]\n",
      "epoch[0] | batch_idx[171] | loc_loss [2.06] | cls_loss [6.98] | avg_loss [9.04]\n",
      "epoch[0] | batch_idx[172] | loc_loss [2.06] | cls_loss [6.99] | avg_loss [9.05]\n",
      "epoch[0] | batch_idx[173] | loc_loss [2.06] | cls_loss [7.01] | avg_loss [9.07]\n",
      "epoch[0] | batch_idx[174] | loc_loss [2.05] | cls_loss [7.02] | avg_loss [9.07]\n",
      "epoch[0] | batch_idx[175] | loc_loss [2.05] | cls_loss [7.03] | avg_loss [9.08]\n",
      "epoch[0] | batch_idx[176] | loc_loss [2.05] | cls_loss [7.03] | avg_loss [9.08]\n",
      "epoch[0] | batch_idx[177] | loc_loss [2.04] | cls_loss [7.03] | avg_loss [9.07]\n",
      "epoch[0] | batch_idx[178] | loc_loss [2.04] | cls_loss [7.03] | avg_loss [9.07]\n",
      "epoch[0] | batch_idx[179] | loc_loss [2.04] | cls_loss [7.03] | avg_loss [9.07]\n",
      "epoch[0] | batch_idx[180] | loc_loss [2.04] | cls_loss [7.03] | avg_loss [9.07]\n",
      "epoch[0] | batch_idx[181] | loc_loss [2.04] | cls_loss [7.04] | avg_loss [9.07]\n",
      "epoch[0] | batch_idx[182] | loc_loss [2.04] | cls_loss [7.04] | avg_loss [9.07]\n",
      "epoch[0] | batch_idx[183] | loc_loss [2.04] | cls_loss [7.03] | avg_loss [9.07]\n",
      "epoch[0] | batch_idx[184] | loc_loss [2.04] | cls_loss [7.03] | avg_loss [9.06]\n",
      "epoch[0] | batch_idx[185] | loc_loss [2.04] | cls_loss [7.02] | avg_loss [9.06]\n",
      "epoch[0] | batch_idx[186] | loc_loss [2.03] | cls_loss [7.02] | avg_loss [9.05]\n",
      "epoch[0] | batch_idx[187] | loc_loss [2.03] | cls_loss [7.02] | avg_loss [9.05]\n",
      "epoch[0] | batch_idx[188] | loc_loss [2.03] | cls_loss [7.02] | avg_loss [9.05]\n",
      "epoch[0] | batch_idx[189] | loc_loss [2.03] | cls_loss [7.02] | avg_loss [9.05]\n",
      "epoch[0] | batch_idx[190] | loc_loss [2.03] | cls_loss [7.01] | avg_loss [9.04]\n",
      "epoch[0] | batch_idx[191] | loc_loss [2.03] | cls_loss [7.02] | avg_loss [9.05]\n",
      "epoch[0] | batch_idx[192] | loc_loss [2.02] | cls_loss [7.03] | avg_loss [9.05]\n",
      "epoch[0] | batch_idx[193] | loc_loss [2.02] | cls_loss [7.03] | avg_loss [9.05]\n",
      "epoch[0] | batch_idx[194] | loc_loss [2.02] | cls_loss [7.03] | avg_loss [9.05]\n",
      "epoch[0] | batch_idx[195] | loc_loss [2.02] | cls_loss [7.03] | avg_loss [9.04]\n",
      "epoch[0] | batch_idx[196] | loc_loss [2.01] | cls_loss [7.02] | avg_loss [9.04]\n",
      "epoch[0] | batch_idx[197] | loc_loss [2.01] | cls_loss [7.02] | avg_loss [9.03]\n",
      "epoch[0] | batch_idx[198] | loc_loss [2.01] | cls_loss [7.02] | avg_loss [9.03]\n",
      "epoch[0] | batch_idx[199] | loc_loss [2.01] | cls_loss [7.02] | avg_loss [9.03]\n",
      "epoch[0] | batch_idx[200] | loc_loss [2.01] | cls_loss [7.02] | avg_loss [9.03]\n",
      "epoch[0] | batch_idx[201] | loc_loss [2.01] | cls_loss [7.02] | avg_loss [9.02]\n",
      "epoch[0] | batch_idx[202] | loc_loss [2.00] | cls_loss [7.01] | avg_loss [9.02]\n",
      "epoch[0] | batch_idx[203] | loc_loss [2.00] | cls_loss [7.01] | avg_loss [9.01]\n",
      "epoch[0] | batch_idx[204] | loc_loss [2.00] | cls_loss [7.01] | avg_loss [9.01]\n",
      "epoch[0] | batch_idx[205] | loc_loss [2.00] | cls_loss [7.00] | avg_loss [9.00]\n",
      "epoch[0] | batch_idx[206] | loc_loss [1.99] | cls_loss [7.00] | avg_loss [8.99]\n",
      "epoch[0] | batch_idx[207] | loc_loss [1.99] | cls_loss [6.99] | avg_loss [8.98]\n",
      "epoch[0] | batch_idx[208] | loc_loss [1.99] | cls_loss [6.99] | avg_loss [8.98]\n",
      "epoch[0] | batch_idx[209] | loc_loss [1.99] | cls_loss [6.99] | avg_loss [8.98]\n",
      "epoch[0] | batch_idx[210] | loc_loss [1.98] | cls_loss [6.98] | avg_loss [8.97]\n",
      "epoch[0] | batch_idx[211] | loc_loss [1.98] | cls_loss [6.98] | avg_loss [8.97]\n",
      "epoch[0] | batch_idx[212] | loc_loss [1.98] | cls_loss [6.98] | avg_loss [8.96]\n",
      "epoch[0] | batch_idx[213] | loc_loss [1.98] | cls_loss [6.98] | avg_loss [8.96]\n",
      "epoch[0] | batch_idx[214] | loc_loss [1.98] | cls_loss [6.97] | avg_loss [8.95]\n",
      "epoch[0] | batch_idx[215] | loc_loss [1.97] | cls_loss [6.97] | avg_loss [8.94]\n",
      "epoch[0] | batch_idx[216] | loc_loss [1.98] | cls_loss [6.96] | avg_loss [8.94]\n",
      "epoch[0] | batch_idx[217] | loc_loss [1.97] | cls_loss [6.96] | avg_loss [8.93]\n",
      "epoch[0] | batch_idx[218] | loc_loss [1.97] | cls_loss [6.95] | avg_loss [8.92]\n",
      "epoch[0] | batch_idx[219] | loc_loss [1.97] | cls_loss [6.95] | avg_loss [8.92]\n",
      "epoch[0] | batch_idx[220] | loc_loss [1.97] | cls_loss [6.95] | avg_loss [8.91]\n",
      "epoch[0] | batch_idx[221] | loc_loss [1.97] | cls_loss [6.94] | avg_loss [8.91]\n",
      "epoch[0] | batch_idx[222] | loc_loss [1.97] | cls_loss [6.93] | avg_loss [8.90]\n",
      "epoch[0] | batch_idx[223] | loc_loss [1.96] | cls_loss [6.93] | avg_loss [8.89]\n",
      "epoch[0] | batch_idx[224] | loc_loss [1.96] | cls_loss [6.92] | avg_loss [8.88]\n",
      "epoch[0] | batch_idx[225] | loc_loss [1.96] | cls_loss [6.92] | avg_loss [8.88]\n",
      "epoch[0] | batch_idx[226] | loc_loss [1.96] | cls_loss [6.91] | avg_loss [8.87]\n",
      "epoch[0] | batch_idx[227] | loc_loss [1.96] | cls_loss [6.91] | avg_loss [8.86]\n",
      "epoch[0] | batch_idx[228] | loc_loss [1.95] | cls_loss [6.90] | avg_loss [8.85]\n",
      "epoch[0] | batch_idx[229] | loc_loss [1.95] | cls_loss [6.89] | avg_loss [8.84]\n",
      "epoch[0] | batch_idx[230] | loc_loss [1.95] | cls_loss [6.88] | avg_loss [8.83]\n",
      "epoch[0] | batch_idx[231] | loc_loss [1.95] | cls_loss [6.87] | avg_loss [8.82]\n",
      "epoch[0] | batch_idx[232] | loc_loss [1.95] | cls_loss [6.87] | avg_loss [8.82]\n",
      "epoch[0] | batch_idx[233] | loc_loss [1.95] | cls_loss [6.86] | avg_loss [8.81]\n",
      "epoch[0] | batch_idx[234] | loc_loss [1.95] | cls_loss [6.85] | avg_loss [8.80]\n",
      "epoch[0] | batch_idx[235] | loc_loss [1.95] | cls_loss [6.84] | avg_loss [8.79]\n",
      "epoch[0] | batch_idx[236] | loc_loss [1.94] | cls_loss [6.83] | avg_loss [8.77]\n",
      "epoch[0] | batch_idx[237] | loc_loss [1.94] | cls_loss [6.82] | avg_loss [8.76]\n",
      "epoch[0] | batch_idx[238] | loc_loss [1.94] | cls_loss [6.81] | avg_loss [8.75]\n",
      "epoch[0] | batch_idx[239] | loc_loss [1.94] | cls_loss [6.80] | avg_loss [8.74]\n",
      "epoch[0] | batch_idx[240] | loc_loss [1.94] | cls_loss [6.79] | avg_loss [8.73]\n",
      "epoch[0] | batch_idx[241] | loc_loss [1.93] | cls_loss [6.78] | avg_loss [8.72]\n",
      "epoch[0] | batch_idx[242] | loc_loss [1.93] | cls_loss [6.77] | avg_loss [8.70]\n",
      "epoch[0] | batch_idx[243] | loc_loss [1.93] | cls_loss [6.76] | avg_loss [8.69]\n",
      "epoch[0] | batch_idx[244] | loc_loss [1.93] | cls_loss [6.75] | avg_loss [8.68]\n",
      "epoch[0] | batch_idx[245] | loc_loss [1.93] | cls_loss [6.74] | avg_loss [8.67]\n",
      "epoch[0] | batch_idx[246] | loc_loss [1.93] | cls_loss [6.73] | avg_loss [8.66]\n",
      "epoch[0] | batch_idx[247] | loc_loss [1.93] | cls_loss [6.72] | avg_loss [8.65]\n",
      "epoch[0] | batch_idx[248] | loc_loss [1.92] | cls_loss [6.71] | avg_loss [8.64]\n",
      "epoch[0] | batch_idx[249] | loc_loss [1.92] | cls_loss [6.70] | avg_loss [8.63]\n",
      "epoch[0] | batch_idx[250] | loc_loss [1.92] | cls_loss [6.70] | avg_loss [8.62]\n",
      "epoch[0] | batch_idx[251] | loc_loss [1.92] | cls_loss [6.69] | avg_loss [8.61]\n",
      "epoch[0] | batch_idx[252] | loc_loss [1.92] | cls_loss [6.67] | avg_loss [8.59]\n",
      "epoch[0] | batch_idx[253] | loc_loss [1.92] | cls_loss [6.66] | avg_loss [8.58]\n",
      "epoch[0] | batch_idx[254] | loc_loss [1.92] | cls_loss [6.65] | avg_loss [8.57]\n",
      "epoch[0] | batch_idx[255] | loc_loss [1.92] | cls_loss [6.64] | avg_loss [8.56]\n",
      "epoch[0] | batch_idx[256] | loc_loss [1.92] | cls_loss [6.63] | avg_loss [8.55]\n",
      "epoch[0] | batch_idx[257] | loc_loss [1.91] | cls_loss [6.62] | avg_loss [8.53]\n",
      "epoch[0] | batch_idx[258] | loc_loss [1.91] | cls_loss [6.61] | avg_loss [8.52]\n",
      "epoch[0] | batch_idx[259] | loc_loss [1.91] | cls_loss [6.60] | avg_loss [8.51]\n",
      "epoch[0] | batch_idx[260] | loc_loss [1.91] | cls_loss [6.59] | avg_loss [8.50]\n",
      "epoch[0] | batch_idx[261] | loc_loss [1.91] | cls_loss [6.58] | avg_loss [8.49]\n",
      "epoch[0] | batch_idx[262] | loc_loss [1.91] | cls_loss [6.57] | avg_loss [8.48]\n",
      "epoch[0] | batch_idx[263] | loc_loss [1.91] | cls_loss [6.56] | avg_loss [8.47]\n",
      "epoch[0] | batch_idx[264] | loc_loss [1.90] | cls_loss [6.55] | avg_loss [8.45]\n",
      "epoch[0] | batch_idx[265] | loc_loss [1.90] | cls_loss [6.55] | avg_loss [8.45]\n",
      "epoch[0] | batch_idx[266] | loc_loss [1.90] | cls_loss [6.54] | avg_loss [8.45]\n",
      "epoch[0] | batch_idx[267] | loc_loss [1.90] | cls_loss [6.54] | avg_loss [8.44]\n",
      "epoch[0] | batch_idx[268] | loc_loss [1.90] | cls_loss [6.54] | avg_loss [8.43]\n",
      "epoch[0] | batch_idx[269] | loc_loss [1.90] | cls_loss [6.53] | avg_loss [8.42]\n",
      "epoch[0] | batch_idx[270] | loc_loss [1.89] | cls_loss [6.52] | avg_loss [8.41]\n",
      "epoch[0] | batch_idx[271] | loc_loss [1.89] | cls_loss [6.51] | avg_loss [8.40]\n",
      "epoch[0] | batch_idx[272] | loc_loss [1.89] | cls_loss [6.50] | avg_loss [8.39]\n",
      "epoch[0] | batch_idx[273] | loc_loss [1.89] | cls_loss [6.49] | avg_loss [8.38]\n",
      "epoch[0] | batch_idx[274] | loc_loss [1.89] | cls_loss [6.49] | avg_loss [8.37]\n",
      "epoch[0] | batch_idx[275] | loc_loss [1.89] | cls_loss [6.48] | avg_loss [8.36]\n",
      "epoch[0] | batch_idx[276] | loc_loss [1.89] | cls_loss [6.47] | avg_loss [8.36]\n",
      "epoch[0] | batch_idx[277] | loc_loss [1.89] | cls_loss [6.46] | avg_loss [8.35]\n",
      "epoch[0] | batch_idx[278] | loc_loss [1.89] | cls_loss [6.45] | avg_loss [8.34]\n",
      "epoch[0] | batch_idx[279] | loc_loss [1.89] | cls_loss [6.44] | avg_loss [8.33]\n",
      "epoch[0] | batch_idx[280] | loc_loss [1.89] | cls_loss [6.43] | avg_loss [8.32]\n",
      "epoch[0] | batch_idx[281] | loc_loss [1.89] | cls_loss [6.42] | avg_loss [8.30]\n",
      "epoch[0] | batch_idx[282] | loc_loss [1.89] | cls_loss [6.41] | avg_loss [8.30]\n",
      "epoch[0] | batch_idx[283] | loc_loss [1.88] | cls_loss [6.41] | avg_loss [8.29]\n",
      "epoch[0] | batch_idx[284] | loc_loss [1.88] | cls_loss [6.40] | avg_loss [8.28]\n",
      "epoch[0] | batch_idx[285] | loc_loss [1.88] | cls_loss [6.39] | avg_loss [8.27]\n",
      "epoch[0] | batch_idx[286] | loc_loss [1.88] | cls_loss [6.38] | avg_loss [8.26]\n",
      "epoch[0] | batch_idx[287] | loc_loss [1.88] | cls_loss [6.37] | avg_loss [8.25]\n",
      "epoch[1] | batch_idx[0] | loc_loss [1.77] | cls_loss [4.28] | avg_loss [6.06]\n",
      "epoch[1] | batch_idx[1] | loc_loss [1.68] | cls_loss [3.90] | avg_loss [5.58]\n",
      "epoch[1] | batch_idx[2] | loc_loss [1.61] | cls_loss [3.95] | avg_loss [5.57]\n",
      "epoch[1] | batch_idx[3] | loc_loss [1.58] | cls_loss [3.96] | avg_loss [5.54]\n",
      "epoch[1] | batch_idx[4] | loc_loss [1.56] | cls_loss [3.91] | avg_loss [5.47]\n",
      "epoch[1] | batch_idx[5] | loc_loss [1.55] | cls_loss [3.88] | avg_loss [5.43]\n",
      "epoch[1] | batch_idx[6] | loc_loss [1.54] | cls_loss [3.86] | avg_loss [5.40]\n",
      "epoch[1] | batch_idx[7] | loc_loss [1.58] | cls_loss [3.84] | avg_loss [5.43]\n",
      "epoch[1] | batch_idx[8] | loc_loss [1.59] | cls_loss [3.79] | avg_loss [5.38]\n",
      "epoch[1] | batch_idx[9] | loc_loss [1.61] | cls_loss [3.79] | avg_loss [5.40]\n",
      "epoch[1] | batch_idx[10] | loc_loss [1.60] | cls_loss [3.75] | avg_loss [5.35]\n",
      "epoch[1] | batch_idx[11] | loc_loss [1.60] | cls_loss [3.70] | avg_loss [5.30]\n",
      "epoch[1] | batch_idx[12] | loc_loss [1.58] | cls_loss [3.65] | avg_loss [5.24]\n",
      "epoch[1] | batch_idx[13] | loc_loss [1.59] | cls_loss [3.65] | avg_loss [5.24]\n",
      "epoch[1] | batch_idx[14] | loc_loss [1.62] | cls_loss [3.67] | avg_loss [5.29]\n",
      "epoch[1] | batch_idx[15] | loc_loss [1.62] | cls_loss [3.67] | avg_loss [5.29]\n",
      "epoch[1] | batch_idx[16] | loc_loss [1.62] | cls_loss [3.64] | avg_loss [5.26]\n",
      "epoch[1] | batch_idx[17] | loc_loss [1.62] | cls_loss [3.62] | avg_loss [5.23]\n",
      "epoch[1] | batch_idx[18] | loc_loss [1.61] | cls_loss [3.58] | avg_loss [5.19]\n",
      "epoch[1] | batch_idx[19] | loc_loss [1.60] | cls_loss [3.53] | avg_loss [5.14]\n",
      "epoch[1] | batch_idx[20] | loc_loss [1.60] | cls_loss [3.52] | avg_loss [5.12]\n",
      "epoch[1] | batch_idx[21] | loc_loss [1.61] | cls_loss [3.49] | avg_loss [5.10]\n"
     ]
    }
   ],
   "source": [
    "## GPU 설정\n",
    "# device = torch.device('cuda')\n",
    "device = torch.device('cuda' if torch.cuda.is_available() else 'cpu')\n",
    "\n",
    "# config.py 파일의 config를 출력해주는 함수\n",
    "def print_config(path):\n",
    "    with open(path, 'r') as f:\n",
    "        for line in f.readlines():\n",
    "            if '=' in line:\n",
    "                print(line)\n",
    "\n",
    "# adjust learning rate 설정하는 함수\n",
    "def adjust_learning_rate(optimizer, gamma, step):\n",
    "    \"\"\"Sets the learning rate to the initial LR decayed by 10 at every\n",
    "        specified step\n",
    "    # Adapted from PyTorch Imagenet example:\n",
    "    # https://github.com/pytorch/examples/blob/master/imagenet/main.py\n",
    "    \"\"\"\n",
    "    lr = opt.lr * (gamma ** (step))\n",
    "    print('change learning rate, now learning rate is :', lr)\n",
    "    for param_group in optimizer.param_groups:\n",
    "        param_group['lr'] = lr\n",
    "        \n",
    "def weights_init_normal(m):\n",
    "    classname = m.__class__.__name__\n",
    "    if classname.find(\"Conv\") != -1:\n",
    "        torch.nn.init.normal_(m.weight.data, 0.0, 0.02)\n",
    "    elif classname.find(\"BatchNorm2d\") != -1:\n",
    "        torch.nn.init.normal_(m.weight.data, 1.0, 0.02)\n",
    "        torch.nn.init.constant_(m.bias.data, 0.0)\n",
    "\n",
    "\n",
    "if __name__ == '__main__':\n",
    "\n",
    "    print_config('config.py')\n",
    "    print('now runing on device : ', device)\n",
    "\n",
    "    # weight 폴더 만들어주기\n",
    "    if not os.path.exists(opt.save_folder):\n",
    "        os.mkdir(opt.save_folder)\n",
    "    \n",
    "    # Model 정의\n",
    "    model = SSD(opt.num_classes, opt.anchor_num)\n",
    "    \n",
    "    # load base network or load checkpoint\n",
    "    if opt.resume:\n",
    "        print('loading checkpoint...')\n",
    "        model.load_state_dict(torch.load(opt.resume))\n",
    "    else:\n",
    "        vgg_weights = torch.load(opt.save_folder + opt.basenet)\n",
    "        print('Loading base network...')\n",
    "        model.vgg.load_state_dict(vgg_weights)\n",
    "\n",
    "    # 현재 GPU를 사용 중일때 GPU 연산을 할 수 있도록 지정\n",
    "    model.to(device)\n",
    "    model.train()\n",
    "\n",
    "    # Data 로드\n",
    "    mb = MultiBoxEncoder(opt)\n",
    "    dataset = CCTVDetection(opt)   # image와 label에 대한 개체\n",
    "    dataloader = torch.utils.data.DataLoader(dataset, batch_size=opt.batch_size, collate_fn=detection_collate, num_workers=0)\n",
    "        # collate_fn : 데이터를 batch로 처리하기 위해 사용하는 인자 (미리 선언된 데이터 처리 파이프라인에 따라)\n",
    "        # detection_collate 파이프라인은 utils에 정의되어 있으며, torch.stack(imgs), np.array(targets)를 리턴\n",
    "\n",
    "    # Loss 계산하는 객체와 optimizer 설정\n",
    "    criterion = MultiBoxLoss(opt.num_classes, opt.neg_radio).to(device)   \n",
    "    optimizer = torch.optim.SGD(model.parameters(), lr=opt.lr, momentum=opt.momentum,\n",
    "                          weight_decay=opt.weight_decay)\n",
    "\n",
    "\n",
    "    print('start training........')\n",
    "    # Epochs\n",
    "    for e in tqdm(range(opt.epoch)):\n",
    "        if e % opt.lr_reduce_epoch == 0:\n",
    "            adjust_learning_rate(optimizer, opt.gamma, e//opt.lr_reduce_epoch)   # lr_reduce_epoch(30)마다 weight decay\n",
    "        \n",
    "        total_loc_loss = 0\n",
    "        total_cls_loss = 0\n",
    "        total_loss = 0\n",
    "\n",
    "        # Batches\n",
    "        for i , (img, boxes) in enumerate(dataloader):\n",
    "            img = img.to(device)\n",
    "            gt_boxes = []\n",
    "            gt_labels = []\n",
    "\n",
    "            # Boxes\n",
    "            for box in boxes:\n",
    "                labels = box[:, 4]\n",
    "                box = box[:, :-1]\n",
    "                match_loc, match_label = mb.encode(box, labels)\n",
    "            \n",
    "                gt_boxes.append(match_loc)\n",
    "                gt_labels.append(match_label)\n",
    "            \n",
    "            gt_boxes = torch.FloatTensor(gt_boxes).to(device)\n",
    "            gt_labels = torch.LongTensor(gt_labels).to(device)\n",
    "\n",
    "            # predict\n",
    "            p_loc, p_label = model(img)  \n",
    "            \n",
    "            # loss 계산\n",
    "            loc_loss, cls_loss = criterion(p_loc, p_label, gt_boxes, gt_labels)\n",
    "            loss = loc_loss + cls_loss\n",
    "\n",
    "            # gradient\n",
    "            optimizer.zero_grad()  # 역전파 계산 전, gradient 0으로 만들어주기\n",
    "            loss.backward()        # gradient 계산\n",
    "            optimizer.step()       # 매개변수 갱신\n",
    "            \n",
    "            # epoch의 전체 loss\n",
    "            total_loc_loss += loc_loss.item()\n",
    "            total_cls_loss += cls_loss.item()\n",
    "            total_loss += loss.item()\n",
    "\n",
    "            # 배치의 loss 평균\n",
    "            if i % opt.log_fn == 0:\n",
    "                avg_loc = total_loc_loss / (i+1)\n",
    "                avg_cls = total_cls_loss / (i+1)\n",
    "                avg_loss = total_loss / (i+1)\n",
    "                print('epoch[{}] | batch_idx[{}] | loc_loss [{:.2f}] | cls_loss [{:.2f}] | avg_loss [{:.2f}]'.format(e, i, avg_loc, avg_cls, avg_loss))\n",
    "\n",
    "        # epoch 마다 모델 저장\n",
    "        if (e+1) % 1 == 0:\n",
    "            torch.save(model.state_dict(), os.path.join(opt.save_folder, 'loss-{:.2f}.pth'.format(total_loss)))\n",
    "            # torch.save(model.state_dict(), PATH)  --  모델 저장코드"
   ]
  },
  {
   "cell_type": "markdown",
   "metadata": {
    "id": "b6deOU3RYxx6"
   },
   "source": [
    "### eval.py"
   ]
  },
  {
   "cell_type": "code",
   "execution_count": null,
   "metadata": {
    "id": "UnLJFJlVY6Zq"
   },
   "outputs": [],
   "source": [
    "import csv\n",
    "from dataset import CCTVDetection\n",
    "from dataset import PERSON_LABELS\n",
    "from config import opt\n",
    "import numpy as np\n",
    "from lib.model import SSD\n",
    "import torch\n",
    "import torch.nn.functional as F\n",
    "import os \n",
    "from lib.multibox_encoder import MultiBoxEncoder\n",
    "from lib.ssd_loss import MultiBoxLoss\n",
    "import cv2\n",
    "from lib.utils import nms\n",
    "from lib.augmentations import preproc_for_test\n",
    "import matplotlib.pyplot as plt\n",
    "from lib.utils import detect\n",
    "import tqdm\n",
    "import os\n",
    "import argparse"
   ]
  },
  {
   "cell_type": "code",
   "execution_count": null,
   "metadata": {
    "id": "VQCrrAko963N"
   },
   "outputs": [],
   "source": [
    "def convert_to_xyxy(imgWidth, imgHeight, xywh):\n",
    "    px = float(xywh[0])\n",
    "    py = float(xywh[1])\n",
    "    pw = float(xywh[2])\n",
    "    ph = float(xywh[3])\n",
    "    \n",
    "    cpx = px + pw/2\n",
    "    cpy = py + ph/2\n",
    "\n",
    "    abspx = cpx / imgWidth\n",
    "    abspy = cpy / imgHeight\n",
    "    abspw = pw / imgWidth\n",
    "    absph = ph / imgHeight  \n",
    "\n",
    "    abspx = 0.999999 if abspx >= 1 else abspx\n",
    "    abspy = 0.999999 if abspy >= 1 else abspy\n",
    "    abspw = 0.999999 if abspw >= 1 else abspw\n",
    "    absph = 0.999999 if absph >= 1 else absph\n",
    "    abspx = 0.000001 if abspx < 0 else abspx\n",
    "    abspy = 0.000001 if abspy < 0 else abspy\n",
    "    abspw = 0.000001 if abspw < 0 else abspw\n",
    "    absph = 0.000001 if absph < 0 else absph\n",
    "            \n",
    "    return abspx, abspy, abspw, absph\n",
    "\n",
    "# argparse를 이용하여 model parsing\n",
    "parser = argparse.ArgumentParser()\n",
    "parser.add_argument('--model', \n",
    "                    default='weights/loss-1451.01.pth',\n",
    "                    type=str,\n",
    "                    help='model checkpoint used to eval CCTV dataset')\n",
    "\n",
    "args = parser.parse_args()  # 명령창에서 주어진 인자를 파싱\n",
    "checkpoint = args.model\n",
    "\n",
    "# GPU 설정\n",
    "device = torch.device('cuda:0' if torch.cuda.is_available() else 'cpu')\n",
    "\n",
    "if __name__ == '__main__': \n",
    "    \n",
    "    # Create Model instance\n",
    "    print('using {} to eval, use cpu may take an hour to complete !!'.format(device))\n",
    "    model = SSD(opt.num_classes, opt.anchor_num)\n",
    "    \n",
    "    # Load Checkpoint\n",
    "    print('loading checkpoint from {}'.format(checkpoint))\n",
    "    state_dict = torch.load(checkpoint, map_location=None if torch.cuda.is_available() else 'cpu')\n",
    "    model.load_state_dict(state_dict)  # load parameters\n",
    "    model.to(device)\n",
    "    print('model loaded')\n",
    "    \n",
    "    multibox_encoder = MultiBoxEncoder(opt)\n",
    "    test_dataset = CCTVDetection(False)\n",
    "\n",
    "    print('start detect.........')\n",
    "    \n",
    "    f = open('pred.csv','w', newline='')\n",
    "    wr = csv.writer(f)\n",
    "    wr.writerow([\"ImageID\",\"LabelName\",\"Conf\",\"XMin\",\"XMax\",\"YMin\",\"YMax\"])\n",
    "    \n",
    "\n",
    "    for i in tqdm.tqdm(range(len(test_dataset))):\n",
    "\n",
    "        src = test_dataset[i]\n",
    "        img_name = os.path.basename(test_dataset.ids[i][19:-4])\n",
    "        image = preproc_for_test(src, opt.min_size, opt.mean)\n",
    "        image = torch.from_numpy(image).to(device)\n",
    "\n",
    "        # predict\n",
    "        with torch.no_grad():\n",
    "            loc, conf = model(image.unsqueeze(0))  # unsqueeze : 특정 위치에 1인 차원을 추가\n",
    "        loc = loc[0]\n",
    "        conf = conf[0]\n",
    "        conf = F.softmax(conf, dim=1)    # normalizes values along axis 1\n",
    "        conf = conf.cpu().numpy()        # move the tensor to cpu\n",
    "        loc = loc.cpu().numpy()\n",
    "\n",
    "        decode_loc = multibox_encoder.decode(loc)\n",
    "        gt_boxes, gt_confs, gt_labels = detect(decode_loc, conf, nms_threshold=0.5, gt_threshold=0.5)\n",
    "\n",
    "        #no object detected\n",
    "        if len(gt_boxes) == 0:\n",
    "            continue\n",
    "\n",
    "        h, w = src.shape[:2]\n",
    "        gt_boxes[:, 0] = gt_boxes[:, 0] * w\n",
    "        gt_boxes[:, 1] = gt_boxes[:, 1] * h\n",
    "        gt_boxes[:, 2] = gt_boxes[:, 2] * w\n",
    "        gt_boxes[:, 3] = gt_boxes[:, 3] * h\n",
    "        \n",
    "        for box, label, score in zip(gt_boxes, gt_labels, gt_confs):\n",
    "            box[0],box[1],box[2],box[3] = convert_to_xyxy(w,h,[box[0],box[1],box[2],box[3]])\n",
    "            wr.writerow([img_name,list(PERSON_LABELS)[label],\"{:.3f}\".format(score),\"{:.8f}\".format(box[0]),\"{:.8f}\".format(box[1]),\"{:.8f}\".format(box[2]),\"{:.8f}\".format(box[3])])\n",
    "\n",
    "    \n",
    "    f.close()\n"
   ]
  },
  {
   "cell_type": "code",
   "execution_count": null,
   "metadata": {
    "id": "17nl_9NzFjeF"
   },
   "outputs": [],
   "source": []
  }
 ],
 "metadata": {
  "accelerator": "GPU",
  "colab": {
   "authorship_tag": "ABX9TyMjyb8w9geeKMnRrCLwzcD9",
   "collapsed_sections": [],
   "machine_shape": "hm",
   "mount_file_id": "1Os6XXYquokFqmUYQ042ICu5cFU9NidlL",
   "name": "Untitled1.ipynb",
   "provenance": [],
   "toc_visible": true
  },
  "kernelspec": {
   "display_name": "Python 3",
   "language": "python",
   "name": "python3"
  },
  "language_info": {
   "codemirror_mode": {
    "name": "ipython",
    "version": 3
   },
   "file_extension": ".py",
   "mimetype": "text/x-python",
   "name": "python",
   "nbconvert_exporter": "python",
   "pygments_lexer": "ipython3",
   "version": "3.7.7"
  }
 },
 "nbformat": 4,
 "nbformat_minor": 1
}
