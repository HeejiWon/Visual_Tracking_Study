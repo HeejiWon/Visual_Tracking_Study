{
 "cells": [
  {
   "cell_type": "markdown",
   "metadata": {},
   "source": [
    "## SiamMask \n",
    ": Visual object tracking과 semi-supervised video object segmentation을 결합한 모델\n",
    "https://paperswithcode.com/paper/fast-online-object-tracking-and-segmentation  \n",
    "\n",
    "### 1. Abstract\n",
    "- fully-convolutional Siamese approaches에 __binary segmentation task__에 대한 loss를 추가하여 성능을 향상시킴\n",
    "- 일단 훈련되면, SiamMask는 single bbox initialisation에만 의존하고, update없이 online으로 작동하며, output으로 object segmentation mask와 rotated bbox들을 55FPS의 속도로 출력\n",
    "- simplicity, versatility, fast speed에도 불구하고 VOT-2018에서 SOTA를 달성\n",
    "> #### cf) semi-supervised video object segmentation(VOS) task      \n",
    ">  <br>\n",
    "> - 첫번째 프레임에 대한 full mask를 제공하는 segmentation task\n",
    "> - 첫번째 프레임에 나온 object에 대하여 이후의 프레임에서 각 object의 binary segmentation mask를 estimating 하는 task\n",
    "> - pixel-level estimation으로 bbox를 예측하는 것보다 더 많은 computational resources가 필요\n",
    "\n",
    "### 2. Introduction\n",
    "- object tracking과 VOS의 gap을 줄이는 것을 목표로 함\n",
    "- Siamese networks를 기반으로 한 fast tracking의 성공과 large video dataset에 의해 motivation 되었음\n",
    "- __offline trainability, online speed, axis-aligned bbox에 제한된 representation을 refining__하는 것을 목표로 함\n",
    "- 이를 위해 3개의 task에 대해 Siamese network를 train 하였음 (3개의 loss를 더하여 사용)  \n",
    ">    - 1) learning a measure of similiarity\n",
    ">    - 2) bbox regression\n",
    ">    - 3) class-agnostic binary segmentation\n",
    "\n",
    "### 3. Methodology\n",
    "- online operability, fast speed를 위해, fully-convolutional Siamese framework를 채택\n",
    "- 대표적인 예시로 SiamFC와 SiamRPN을 들고 있음\n",
    "> cf) SiamFC\n",
    "> <img src='img/siammask.png' width='200'>  \n",
    "> - 좌변을 RoW(response of a candidate window)라 부르며, response map의 각 spatial element를 나타냄"
   ]
  },
  {
   "cell_type": "code",
   "execution_count": null,
   "metadata": {},
   "outputs": [],
   "source": []
  }
 ],
 "metadata": {
  "kernelspec": {
   "display_name": "Python 3",
   "language": "python",
   "name": "python3"
  },
  "language_info": {
   "codemirror_mode": {
    "name": "ipython",
    "version": 3
   },
   "file_extension": ".py",
   "mimetype": "text/x-python",
   "name": "python",
   "nbconvert_exporter": "python",
   "pygments_lexer": "ipython3",
   "version": "3.7.7"
  }
 },
 "nbformat": 4,
 "nbformat_minor": 4
}
